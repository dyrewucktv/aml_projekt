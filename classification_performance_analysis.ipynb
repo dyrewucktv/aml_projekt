{
 "cells": [
  {
   "cell_type": "code",
   "execution_count": 1,
   "metadata": {},
   "outputs": [],
   "source": [
    "import warnings\n",
    "\n",
    "import pandas as pd\n",
    "\n",
    "from src.data_loader.DataLoader import DataLoader\n",
    "from src.eval import (eval_adam, eval_iwls, eval_lda, eval_qda,\n",
    "                      eval_random_forest, eval_sgd, eval_tree)\n",
    "\n",
    "warnings.filterwarnings(\"ignore\")"
   ]
  },
  {
   "cell_type": "code",
   "execution_count": 2,
   "metadata": {},
   "outputs": [],
   "source": [
    "random_states = [420, 69, 42, 24, 96, 1312, 777]"
   ]
  },
  {
   "cell_type": "code",
   "execution_count": 3,
   "metadata": {},
   "outputs": [],
   "source": [
    "loader = DataLoader(product=True)\n",
    "\n",
    "results = []\n",
    "\n",
    "for dataset in loader.get_small_supported_datasets():\n",
    "    for random_state in random_states:\n",
    "        results.append(eval_iwls(loader, dataset, random_state, max_iterations=500, patience=5))\n",
    "        results.append(eval_sgd(loader, dataset, random_state, max_iterations=500, patience=5))\n",
    "        results.append(eval_adam(loader, dataset, random_state, max_iterations=500, patience=5))\n",
    "        results.append(eval_lda(loader, dataset, random_state))\n",
    "        results.append(eval_qda(loader, dataset, random_state))\n",
    "        results.append(eval_tree(loader, dataset, random_state))\n",
    "        results.append(eval_random_forest(loader, dataset, random_state))\n",
    "\n",
    "df_product = pd.DataFrame.from_records(results)"
   ]
  },
  {
   "cell_type": "code",
   "execution_count": 4,
   "metadata": {},
   "outputs": [],
   "source": [
    "loader = DataLoader(product=False)\n",
    "\n",
    "results = []\n",
    "\n",
    "for dataset in loader.get_supported_datasets():\n",
    "    for random_state in random_states:\n",
    "        results.append(eval_iwls(loader, dataset, random_state, max_iterations=500, patience=5))\n",
    "        results.append(eval_sgd(loader, dataset, random_state, max_iterations=500, patience=5))\n",
    "        results.append(eval_adam(loader, dataset, random_state, max_iterations=500, patience=5))\n",
    "        results.append(eval_lda(loader, dataset, random_state))\n",
    "        results.append(eval_qda(loader, dataset, random_state))\n",
    "        results.append(eval_tree(loader, dataset, random_state))\n",
    "        results.append(eval_random_forest(loader, dataset, random_state))\n",
    "\n",
    "df_no_product = pd.DataFrame.from_records(results)"
   ]
  },
  {
   "cell_type": "code",
   "execution_count": 5,
   "metadata": {},
   "outputs": [],
   "source": [
    "df_all = pd.concat((df_product, df_no_product), axis=0)\n",
    "df_all.to_csv(\"classification_performance.csv\", index=False)"
   ]
  },
  {
   "cell_type": "code",
   "execution_count": 6,
   "metadata": {},
   "outputs": [
    {
     "data": {
      "text/html": [
       "<div>\n",
       "<style scoped>\n",
       "    .dataframe tbody tr th:only-of-type {\n",
       "        vertical-align: middle;\n",
       "    }\n",
       "\n",
       "    .dataframe tbody tr th {\n",
       "        vertical-align: top;\n",
       "    }\n",
       "\n",
       "    .dataframe thead th {\n",
       "        text-align: right;\n",
       "    }\n",
       "</style>\n",
       "<table border=\"1\" class=\"dataframe\">\n",
       "  <thead>\n",
       "    <tr style=\"text-align: right;\">\n",
       "      <th></th>\n",
       "      <th>dataset</th>\n",
       "      <th>method</th>\n",
       "      <th>time</th>\n",
       "      <th>accuracy</th>\n",
       "      <th>random_state</th>\n",
       "      <th>iters</th>\n",
       "    </tr>\n",
       "  </thead>\n",
       "  <tbody>\n",
       "    <tr>\n",
       "      <th>0</th>\n",
       "      <td>banknote</td>\n",
       "      <td>IWLS</td>\n",
       "      <td>0.000629</td>\n",
       "      <td>0.866729</td>\n",
       "      <td>420</td>\n",
       "      <td>5</td>\n",
       "    </tr>\n",
       "    <tr>\n",
       "      <th>1</th>\n",
       "      <td>banknote</td>\n",
       "      <td>SGD</td>\n",
       "      <td>0.002973</td>\n",
       "      <td>0.736619</td>\n",
       "      <td>420</td>\n",
       "      <td>5</td>\n",
       "    </tr>\n",
       "    <tr>\n",
       "      <th>2</th>\n",
       "      <td>banknote</td>\n",
       "      <td>ADAM</td>\n",
       "      <td>0.015343</td>\n",
       "      <td>0.841578</td>\n",
       "      <td>420</td>\n",
       "      <td>23</td>\n",
       "    </tr>\n",
       "    <tr>\n",
       "      <th>3</th>\n",
       "      <td>banknote</td>\n",
       "      <td>LDA</td>\n",
       "      <td>0.001327</td>\n",
       "      <td>0.879292</td>\n",
       "      <td>420</td>\n",
       "      <td>-1</td>\n",
       "    </tr>\n",
       "    <tr>\n",
       "      <th>4</th>\n",
       "      <td>banknote</td>\n",
       "      <td>QDA</td>\n",
       "      <td>0.000324</td>\n",
       "      <td>0.500000</td>\n",
       "      <td>420</td>\n",
       "      <td>-1</td>\n",
       "    </tr>\n",
       "  </tbody>\n",
       "</table>\n",
       "</div>"
      ],
      "text/plain": [
       "    dataset method      time  accuracy  random_state  iters\n",
       "0  banknote   IWLS  0.000629  0.866729           420      5\n",
       "1  banknote    SGD  0.002973  0.736619           420      5\n",
       "2  banknote   ADAM  0.015343  0.841578           420     23\n",
       "3  banknote    LDA  0.001327  0.879292           420     -1\n",
       "4  banknote    QDA  0.000324  0.500000           420     -1"
      ]
     },
     "execution_count": 6,
     "metadata": {},
     "output_type": "execute_result"
    }
   ],
   "source": [
    "df = pd.read_csv(\"classification_performance.csv\")\n",
    "df.head()"
   ]
  }
 ],
 "metadata": {
  "kernelspec": {
   "display_name": "mio",
   "language": "python",
   "name": "python3"
  },
  "language_info": {
   "codemirror_mode": {
    "name": "ipython",
    "version": 3
   },
   "file_extension": ".py",
   "mimetype": "text/x-python",
   "name": "python",
   "nbconvert_exporter": "python",
   "pygments_lexer": "ipython3",
   "version": "3.10.9"
  }
 },
 "nbformat": 4,
 "nbformat_minor": 2
}

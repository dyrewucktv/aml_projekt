{
 "cells": [
  {
   "cell_type": "code",
   "execution_count": 1,
   "id": "initial_id",
   "metadata": {
    "collapsed": true,
    "ExecuteTime": {
     "end_time": "2024-03-11T17:07:03.330794221Z",
     "start_time": "2024-03-11T17:07:03.060323315Z"
    }
   },
   "outputs": [
    {
     "data": {
      "text/plain": "array([( 0.489927, -0.451528, -1.04799 , -0.598693, -0.020418, b'1'),\n       (-0.641265,  0.109245,  0.29213 , -0.916804,  0.240223, b'1'),\n       ( 0.870593, -0.459862,  0.578159,  0.806634,  0.835248, b'1'), ...,\n       ( 0.246882, -0.793228,  1.190101,  1.423194, -1.303036, b'2'),\n       (-0.778907, -0.383111,  1.727029, -1.432389, -1.208085, b'1'),\n       (-0.794604, -0.640053,  0.632221,  0.72028 , -1.231182, b'2')],\n      dtype=[('V1', '<f8'), ('V2', '<f8'), ('V3', '<f8'), ('V4', '<f8'), ('V5', '<f8'), ('Class', 'S1')])"
     },
     "execution_count": 1,
     "metadata": {},
     "output_type": "execute_result"
    }
   ],
   "source": [
    "from scipy.io import arff\n",
    "import numpy as np\n",
    "from sklearn.metrics import balanced_accuracy_score\n",
    "\n",
    "data, meta = arff.loadarff('data/phoneme.arff')\n",
    "data"
   ]
  },
  {
   "cell_type": "code",
   "outputs": [
    {
     "data": {
      "text/plain": "array([[ 0.489927, -0.451528, -1.04799 , -0.598693, -0.020418],\n       [-0.641265,  0.109245,  0.29213 , -0.916804,  0.240223],\n       [ 0.870593, -0.459862,  0.578159,  0.806634,  0.835248],\n       ...,\n       [ 0.246882, -0.793228,  1.190101,  1.423194, -1.303036],\n       [-0.778907, -0.383111,  1.727029, -1.432389, -1.208085],\n       [-0.794604, -0.640053,  0.632221,  0.72028 , -1.231182]])"
     },
     "execution_count": 2,
     "metadata": {},
     "output_type": "execute_result"
    }
   ],
   "source": [
    "data = np.array(data.tolist(), dtype=float)\n",
    "x = data[:, :-1]\n",
    "y= (data[:, -1] - 1)\n",
    "x"
   ],
   "metadata": {
    "collapsed": false,
    "ExecuteTime": {
     "end_time": "2024-03-11T17:07:03.373548044Z",
     "start_time": "2024-03-11T17:07:03.339156434Z"
    }
   },
   "id": "9d7f8ae72455b08c",
   "execution_count": 2
  },
  {
   "cell_type": "code",
   "outputs": [
    {
     "data": {
      "text/plain": "array([0., 0., 0., ..., 1., 0., 1.])"
     },
     "execution_count": 3,
     "metadata": {},
     "output_type": "execute_result"
    }
   ],
   "source": [
    "y"
   ],
   "metadata": {
    "collapsed": false,
    "ExecuteTime": {
     "end_time": "2024-03-11T17:07:03.375163676Z",
     "start_time": "2024-03-11T17:07:03.349470156Z"
    }
   },
   "id": "55c0e4c2861d5a52",
   "execution_count": 3
  },
  {
   "cell_type": "code",
   "outputs": [
    {
     "data": {
      "text/plain": "0.6969253670054409"
     },
     "execution_count": 4,
     "metadata": {},
     "output_type": "execute_result"
    }
   ],
   "source": [
    "from sklearn.model_selection import train_test_split\n",
    "\n",
    "from src.model.LogisticRegression import LogisticRegression\n",
    "from src.optim.IWLS import IWLS\n",
    "from src.optim.SGD import SGD\n",
    "from src.optim.conditions import MaxIterationCondition\n",
    "\n",
    "train_x, test_x, train_y, test_y = train_test_split(x, y, test_size=0.3, stratify=y, random_state=42)\n",
    "\n",
    "model = LogisticRegression()\n",
    "optim = SGD(model, MaxIterationCondition(30), batch_size=1)\n",
    "\n",
    "model = optim.optimize(train_x, train_y)\n",
    "balanced_accuracy_score(test_y, model.predict(test_x))"
   ],
   "metadata": {
    "collapsed": false,
    "ExecuteTime": {
     "end_time": "2024-03-11T17:07:03.443090409Z",
     "start_time": "2024-03-11T17:07:03.375502969Z"
    }
   },
   "id": "c03f35479a58880",
   "execution_count": 4
  },
  {
   "cell_type": "code",
   "outputs": [
    {
     "data": {
      "text/plain": "array([-0.00641647, -0.00235959,  0.00512599,  0.00894291, -0.00206821])"
     },
     "execution_count": 5,
     "metadata": {},
     "output_type": "execute_result"
    }
   ],
   "source": [
    "model.weights"
   ],
   "metadata": {
    "collapsed": false,
    "ExecuteTime": {
     "end_time": "2024-03-11T17:07:03.492183062Z",
     "start_time": "2024-03-11T17:07:03.447487709Z"
    }
   },
   "id": "d658d6a00d68671c",
   "execution_count": 5
  },
  {
   "cell_type": "code",
   "outputs": [
    {
     "data": {
      "text/plain": "array([1, 0, 0, ..., 0, 1, 0])"
     },
     "execution_count": 6,
     "metadata": {},
     "output_type": "execute_result"
    }
   ],
   "source": [
    "model.predict(test_x)"
   ],
   "metadata": {
    "collapsed": false,
    "ExecuteTime": {
     "end_time": "2024-03-11T17:07:03.492857209Z",
     "start_time": "2024-03-11T17:07:03.489143264Z"
    }
   },
   "id": "892948d01f9b1f1b",
   "execution_count": 6
  },
  {
   "cell_type": "code",
   "outputs": [
    {
     "ename": "ValueError",
     "evalue": "",
     "output_type": "error",
     "traceback": [
      "\u001B[0;31m---------------------------------------------------------------------------\u001B[0m",
      "\u001B[0;31mValueError\u001B[0m                                Traceback (most recent call last)",
      "Cell \u001B[0;32mIn[7], line 1\u001B[0m\n\u001B[0;32m----> 1\u001B[0m \u001B[38;5;28;01mraise\u001B[39;00m \u001B[38;5;167;01mValueError\u001B[39;00m()\n",
      "\u001B[0;31mValueError\u001B[0m: "
     ]
    }
   ],
   "source": [
    "raise ValueError()"
   ],
   "metadata": {
    "collapsed": false,
    "ExecuteTime": {
     "end_time": "2024-03-11T17:07:04.004461516Z",
     "start_time": "2024-03-11T17:07:03.489516891Z"
    }
   },
   "id": "b4844f31aee9a0c6",
   "execution_count": 7
  },
  {
   "cell_type": "code",
   "outputs": [],
   "source": [
    "from sklearn.model_selection import train_test_split\n",
    "\n",
    "from src.model.LogisticRegression import LogisticRegression\n",
    "from src.optim.IWLS import IWLS\n",
    "from src.optim.conditions import MaxIterationCondition\n",
    "\n",
    "train_x, test_x, train_y, test_y = train_test_split(x, y, test_size=0.3, stratify=y, random_state=42)\n",
    "\n",
    "accs = []\n",
    "for i in range(1, 20):\n",
    "    model = LogisticRegression()\n",
    "    optim = IWLS(model, MaxIterationCondition(i))\n",
    "\n",
    "    model = optim.optimize(train_x, train_y)\n",
    "\n",
    "    balanced_acc = balanced_accuracy_score(test_y, model.predict(test_x))\n",
    "    accs.append(balanced_acc)\n"
   ],
   "metadata": {
    "collapsed": false,
    "ExecuteTime": {
     "end_time": "2024-03-11T17:07:04.011234445Z",
     "start_time": "2024-03-11T17:07:04.010244509Z"
    }
   },
   "id": "76bfa8059ec10873",
   "execution_count": null
  },
  {
   "cell_type": "code",
   "outputs": [],
   "source": [
    "import seaborn as sns\n",
    "sns.lineplot(x=list(range(1,20)), y=accs)"
   ],
   "metadata": {
    "collapsed": false,
    "ExecuteTime": {
     "start_time": "2024-03-11T17:07:04.013849802Z"
    }
   },
   "id": "63b5c370b45551da",
   "execution_count": null
  },
  {
   "cell_type": "code",
   "outputs": [],
   "source": [],
   "metadata": {
    "collapsed": false,
    "ExecuteTime": {
     "start_time": "2024-03-11T17:07:04.026580651Z"
    }
   },
   "id": "bf70d088a99291dc"
  }
 ],
 "metadata": {
  "kernelspec": {
   "display_name": "Python 3",
   "language": "python",
   "name": "python3"
  },
  "language_info": {
   "codemirror_mode": {
    "name": "ipython",
    "version": 2
   },
   "file_extension": ".py",
   "mimetype": "text/x-python",
   "name": "python",
   "nbconvert_exporter": "python",
   "pygments_lexer": "ipython2",
   "version": "2.7.6"
  }
 },
 "nbformat": 4,
 "nbformat_minor": 5
}

{
 "cells": [
  {
   "cell_type": "code",
   "execution_count": 1,
   "id": "initial_id",
   "metadata": {
    "collapsed": true,
    "ExecuteTime": {
     "end_time": "2024-03-11T17:26:06.495584083Z",
     "start_time": "2024-03-11T17:26:06.213957190Z"
    }
   },
   "outputs": [
    {
     "data": {
      "text/plain": "array([( 0.489927, -0.451528, -1.04799 , -0.598693, -0.020418, b'1'),\n       (-0.641265,  0.109245,  0.29213 , -0.916804,  0.240223, b'1'),\n       ( 0.870593, -0.459862,  0.578159,  0.806634,  0.835248, b'1'), ...,\n       ( 0.246882, -0.793228,  1.190101,  1.423194, -1.303036, b'2'),\n       (-0.778907, -0.383111,  1.727029, -1.432389, -1.208085, b'1'),\n       (-0.794604, -0.640053,  0.632221,  0.72028 , -1.231182, b'2')],\n      dtype=[('V1', '<f8'), ('V2', '<f8'), ('V3', '<f8'), ('V4', '<f8'), ('V5', '<f8'), ('Class', 'S1')])"
     },
     "execution_count": 1,
     "metadata": {},
     "output_type": "execute_result"
    }
   ],
   "source": [
    "from scipy.io import arff\n",
    "import numpy as np\n",
    "from sklearn.metrics import balanced_accuracy_score\n",
    "\n",
    "data, meta = arff.loadarff('data/phoneme.arff')\n",
    "data"
   ]
  },
  {
   "cell_type": "code",
   "outputs": [
    {
     "data": {
      "text/plain": "array([[ 0.489927, -0.451528, -1.04799 , -0.598693, -0.020418],\n       [-0.641265,  0.109245,  0.29213 , -0.916804,  0.240223],\n       [ 0.870593, -0.459862,  0.578159,  0.806634,  0.835248],\n       ...,\n       [ 0.246882, -0.793228,  1.190101,  1.423194, -1.303036],\n       [-0.778907, -0.383111,  1.727029, -1.432389, -1.208085],\n       [-0.794604, -0.640053,  0.632221,  0.72028 , -1.231182]])"
     },
     "execution_count": 2,
     "metadata": {},
     "output_type": "execute_result"
    }
   ],
   "source": [
    "data = np.array(data.tolist(), dtype=float)\n",
    "x = data[:, :-1]\n",
    "y= (data[:, -1] - 1)\n",
    "x"
   ],
   "metadata": {
    "collapsed": false,
    "ExecuteTime": {
     "end_time": "2024-03-11T17:26:06.525365703Z",
     "start_time": "2024-03-11T17:26:06.510648257Z"
    }
   },
   "id": "9d7f8ae72455b08c",
   "execution_count": 2
  },
  {
   "cell_type": "code",
   "outputs": [
    {
     "data": {
      "text/plain": "array([0., 0., 0., ..., 1., 0., 1.])"
     },
     "execution_count": 3,
     "metadata": {},
     "output_type": "execute_result"
    }
   ],
   "source": [
    "y"
   ],
   "metadata": {
    "collapsed": false,
    "ExecuteTime": {
     "end_time": "2024-03-11T17:26:06.547344963Z",
     "start_time": "2024-03-11T17:26:06.518222212Z"
    }
   },
   "id": "55c0e4c2861d5a52",
   "execution_count": 3
  },
  {
   "cell_type": "code",
   "outputs": [
    {
     "data": {
      "text/plain": "0.719744966049247"
     },
     "execution_count": 11,
     "metadata": {},
     "output_type": "execute_result"
    }
   ],
   "source": [
    "from sklearn.model_selection import train_test_split\n",
    "\n",
    "from src.model.LogisticRegression import LogisticRegression\n",
    "from src.optim.IWLS import IWLS\n",
    "from src.optim.SGD import SGD\n",
    "from src.optim.conditions import MaxIterationCondition, NoLogLikImprovementCondition\n",
    "\n",
    "train_x, test_x, train_y, test_y = train_test_split(x, y, test_size=0.3, stratify=y, random_state=42)\n",
    "\n",
    "model = LogisticRegression()\n",
    "optim = SGD(model, NoLogLikImprovementCondition(20), batch_size=1)\n",
    "\n",
    "model = optim.optimize(train_x, train_y)\n",
    "balanced_accuracy_score(test_y, model.predict(test_x))"
   ],
   "metadata": {
    "collapsed": false,
    "ExecuteTime": {
     "end_time": "2024-03-11T17:26:22.470329434Z",
     "start_time": "2024-03-11T17:26:21.750766963Z"
    }
   },
   "id": "c03f35479a58880",
   "execution_count": 11
  },
  {
   "cell_type": "code",
   "outputs": [
    {
     "data": {
      "text/plain": "4"
     },
     "execution_count": 5,
     "metadata": {},
     "output_type": "execute_result"
    }
   ],
   "source": [
    "optim.stopping_condition.epoch"
   ],
   "metadata": {
    "collapsed": false,
    "ExecuteTime": {
     "end_time": "2024-03-11T17:26:06.663850223Z",
     "start_time": "2024-03-11T17:26:06.605168918Z"
    }
   },
   "id": "205c3a0a25d694f",
   "execution_count": 5
  },
  {
   "cell_type": "code",
   "outputs": [
    {
     "data": {
      "text/plain": "array([-1.53959211e-03,  3.02223402e-04, -1.08340994e-03,  9.40094370e-04,\n       -6.81879256e-05])"
     },
     "execution_count": 6,
     "metadata": {},
     "output_type": "execute_result"
    }
   ],
   "source": [
    "model.weights"
   ],
   "metadata": {
    "collapsed": false,
    "ExecuteTime": {
     "end_time": "2024-03-11T17:26:06.665192248Z",
     "start_time": "2024-03-11T17:26:06.645864758Z"
    }
   },
   "id": "d658d6a00d68671c",
   "execution_count": 6
  },
  {
   "cell_type": "code",
   "outputs": [
    {
     "name": "stdout",
     "output_type": "stream",
     "text": [
      "[-1.53959211e-03  3.02223402e-04 -1.08340994e-03  9.40094370e-04\n",
      " -6.81879256e-05]\n"
     ]
    }
   ],
   "source": [
    "print(model.weights)"
   ],
   "metadata": {
    "collapsed": false,
    "ExecuteTime": {
     "end_time": "2024-03-11T17:26:06.666382890Z",
     "start_time": "2024-03-11T17:26:06.646075782Z"
    }
   },
   "id": "a6d416c521292956",
   "execution_count": 7
  },
  {
   "cell_type": "code",
   "outputs": [
    {
     "data": {
      "text/plain": "array([0, 1, 0, ..., 0, 1, 1])"
     },
     "execution_count": 8,
     "metadata": {},
     "output_type": "execute_result"
    }
   ],
   "source": [
    "model.predict(test_x)"
   ],
   "metadata": {
    "collapsed": false,
    "ExecuteTime": {
     "end_time": "2024-03-11T17:26:06.729348401Z",
     "start_time": "2024-03-11T17:26:06.662426206Z"
    }
   },
   "id": "892948d01f9b1f1b",
   "execution_count": 8
  },
  {
   "cell_type": "code",
   "outputs": [
    {
     "ename": "ValueError",
     "evalue": "",
     "output_type": "error",
     "traceback": [
      "\u001B[0;31m---------------------------------------------------------------------------\u001B[0m",
      "\u001B[0;31mValueError\u001B[0m                                Traceback (most recent call last)",
      "Cell \u001B[0;32mIn[9], line 1\u001B[0m\n\u001B[0;32m----> 1\u001B[0m \u001B[38;5;28;01mraise\u001B[39;00m \u001B[38;5;167;01mValueError\u001B[39;00m()\n",
      "\u001B[0;31mValueError\u001B[0m: "
     ]
    }
   ],
   "source": [
    "raise ValueError()"
   ],
   "metadata": {
    "collapsed": false,
    "ExecuteTime": {
     "end_time": "2024-03-11T17:26:07.218973937Z",
     "start_time": "2024-03-11T17:26:06.684783020Z"
    }
   },
   "id": "b4844f31aee9a0c6",
   "execution_count": 9
  },
  {
   "cell_type": "code",
   "outputs": [],
   "source": [
    "from sklearn.model_selection import train_test_split\n",
    "\n",
    "from src.model.LogisticRegression import LogisticRegression\n",
    "from src.optim.IWLS import IWLS\n",
    "from src.optim.conditions import MaxIterationCondition\n",
    "\n",
    "train_x, test_x, train_y, test_y = train_test_split(x, y, test_size=0.3, stratify=y, random_state=42)\n",
    "\n",
    "accs = []\n",
    "for i in range(1, 20):\n",
    "    model = LogisticRegression()\n",
    "    optim = IWLS(model, MaxIterationCondition(i))\n",
    "\n",
    "    model = optim.optimize(train_x, train_y)\n",
    "\n",
    "    balanced_acc = balanced_accuracy_score(test_y, model.predict(test_x))\n",
    "    accs.append(balanced_acc)\n"
   ],
   "metadata": {
    "collapsed": false,
    "ExecuteTime": {
     "end_time": "2024-03-11T17:26:07.227850583Z",
     "start_time": "2024-03-11T17:26:07.224191484Z"
    }
   },
   "id": "76bfa8059ec10873",
   "execution_count": null
  },
  {
   "cell_type": "code",
   "outputs": [],
   "source": [
    "import seaborn as sns\n",
    "sns.lineplot(x=list(range(1,20)), y=accs)"
   ],
   "metadata": {
    "collapsed": false,
    "ExecuteTime": {
     "start_time": "2024-03-11T17:26:07.229553511Z"
    }
   },
   "id": "63b5c370b45551da",
   "execution_count": null
  },
  {
   "cell_type": "code",
   "outputs": [],
   "source": [],
   "metadata": {
    "collapsed": false,
    "ExecuteTime": {
     "end_time": "2024-03-11T17:26:07.235849181Z",
     "start_time": "2024-03-11T17:26:07.233280547Z"
    }
   },
   "id": "bf70d088a99291dc"
  }
 ],
 "metadata": {
  "kernelspec": {
   "display_name": "Python 3",
   "language": "python",
   "name": "python3"
  },
  "language_info": {
   "codemirror_mode": {
    "name": "ipython",
    "version": 2
   },
   "file_extension": ".py",
   "mimetype": "text/x-python",
   "name": "python",
   "nbconvert_exporter": "python",
   "pygments_lexer": "ipython2",
   "version": "2.7.6"
  }
 },
 "nbformat": 4,
 "nbformat_minor": 5
}

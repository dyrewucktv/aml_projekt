{
 "cells": [
  {
   "cell_type": "code",
   "execution_count": 1,
   "id": "initial_id",
   "metadata": {
    "collapsed": true,
    "ExecuteTime": {
     "end_time": "2024-03-11T17:29:22.354129443Z",
     "start_time": "2024-03-11T17:29:22.189448623Z"
    }
   },
   "outputs": [
    {
     "data": {
      "text/plain": "array([( 0.489927, -0.451528, -1.04799 , -0.598693, -0.020418, b'1'),\n       (-0.641265,  0.109245,  0.29213 , -0.916804,  0.240223, b'1'),\n       ( 0.870593, -0.459862,  0.578159,  0.806634,  0.835248, b'1'), ...,\n       ( 0.246882, -0.793228,  1.190101,  1.423194, -1.303036, b'2'),\n       (-0.778907, -0.383111,  1.727029, -1.432389, -1.208085, b'1'),\n       (-0.794604, -0.640053,  0.632221,  0.72028 , -1.231182, b'2')],\n      dtype=[('V1', '<f8'), ('V2', '<f8'), ('V3', '<f8'), ('V4', '<f8'), ('V5', '<f8'), ('Class', 'S1')])"
     },
     "execution_count": 1,
     "metadata": {},
     "output_type": "execute_result"
    }
   ],
   "source": [
    "from scipy.io import arff\n",
    "import numpy as np\n",
    "from sklearn.metrics import balanced_accuracy_score\n",
    "\n",
    "data, meta = arff.loadarff('data/phoneme.arff')\n",
    "data"
   ]
  },
  {
   "cell_type": "code",
   "outputs": [
    {
     "data": {
      "text/plain": "array([[ 0.489927, -0.451528, -1.04799 , -0.598693, -0.020418],\n       [-0.641265,  0.109245,  0.29213 , -0.916804,  0.240223],\n       [ 0.870593, -0.459862,  0.578159,  0.806634,  0.835248],\n       ...,\n       [ 0.246882, -0.793228,  1.190101,  1.423194, -1.303036],\n       [-0.778907, -0.383111,  1.727029, -1.432389, -1.208085],\n       [-0.794604, -0.640053,  0.632221,  0.72028 , -1.231182]])"
     },
     "execution_count": 2,
     "metadata": {},
     "output_type": "execute_result"
    }
   ],
   "source": [
    "data = np.array(data.tolist(), dtype=float)\n",
    "x = data[:, :-1]\n",
    "y= (data[:, -1] - 1)\n",
    "x"
   ],
   "metadata": {
    "collapsed": false,
    "ExecuteTime": {
     "end_time": "2024-03-11T17:29:22.422470646Z",
     "start_time": "2024-03-11T17:29:22.367258395Z"
    }
   },
   "id": "9d7f8ae72455b08c",
   "execution_count": 2
  },
  {
   "cell_type": "code",
   "outputs": [
    {
     "data": {
      "text/plain": "array([0., 0., 0., ..., 1., 0., 1.])"
     },
     "execution_count": 3,
     "metadata": {},
     "output_type": "execute_result"
    }
   ],
   "source": [
    "y"
   ],
   "metadata": {
    "collapsed": false,
    "ExecuteTime": {
     "end_time": "2024-03-11T17:29:22.423746658Z",
     "start_time": "2024-03-11T17:29:22.377706113Z"
    }
   },
   "id": "55c0e4c2861d5a52",
   "execution_count": 3
  },
  {
   "cell_type": "code",
   "outputs": [
    {
     "data": {
      "text/plain": "0.7464069397392465"
     },
     "execution_count": 6,
     "metadata": {},
     "output_type": "execute_result"
    }
   ],
   "source": [
    "from sklearn.model_selection import train_test_split\n",
    "\n",
    "from src.model.LogisticRegression import LogisticRegression\n",
    "from src.optim.IWLS import IWLS\n",
    "from src.optim.SGD import SGD\n",
    "from src.optim.conditions import MaxIterationCondition, NoLogLikImprovementCondition\n",
    "\n",
    "train_x, test_x, train_y, test_y = train_test_split(x, y, test_size=0.3, stratify=y, random_state=42)\n",
    "\n",
    "model = LogisticRegression()\n",
    "optim = IWLS(model, NoLogLikImprovementCondition(1))\n",
    "\n",
    "model = optim.optimize(train_x, train_y)\n",
    "balanced_accuracy_score(test_y, model.predict(test_x))"
   ],
   "metadata": {
    "collapsed": false,
    "ExecuteTime": {
     "end_time": "2024-03-11T17:29:51.826677290Z",
     "start_time": "2024-03-11T17:29:42.369354640Z"
    }
   },
   "id": "c03f35479a58880",
   "execution_count": 6
  },
  {
   "cell_type": "code",
   "outputs": [
    {
     "data": {
      "text/plain": "5"
     },
     "execution_count": 7,
     "metadata": {},
     "output_type": "execute_result"
    }
   ],
   "source": [
    "optim.stop_condition.epoch"
   ],
   "metadata": {
    "collapsed": false,
    "ExecuteTime": {
     "end_time": "2024-03-11T17:29:55.231010950Z",
     "start_time": "2024-03-11T17:29:55.225693586Z"
    }
   },
   "id": "205c3a0a25d694f",
   "execution_count": 7
  },
  {
   "cell_type": "code",
   "outputs": [],
   "source": [
    "model.weights"
   ],
   "metadata": {
    "collapsed": false,
    "ExecuteTime": {
     "start_time": "2024-03-11T17:29:32.629733846Z"
    }
   },
   "id": "d658d6a00d68671c",
   "execution_count": null
  },
  {
   "cell_type": "code",
   "outputs": [],
   "source": [
    "print(model.weights)"
   ],
   "metadata": {
    "collapsed": false,
    "ExecuteTime": {
     "end_time": "2024-03-11T17:29:32.631486818Z",
     "start_time": "2024-03-11T17:29:32.631178232Z"
    }
   },
   "id": "a6d416c521292956",
   "execution_count": null
  },
  {
   "cell_type": "code",
   "outputs": [],
   "source": [
    "model.predict(test_x)"
   ],
   "metadata": {
    "collapsed": false,
    "ExecuteTime": {
     "start_time": "2024-03-11T17:29:32.632449645Z"
    }
   },
   "id": "892948d01f9b1f1b",
   "execution_count": null
  },
  {
   "cell_type": "code",
   "outputs": [],
   "source": [
    "raise ValueError()"
   ],
   "metadata": {
    "collapsed": false,
    "ExecuteTime": {
     "start_time": "2024-03-11T17:29:32.633444512Z"
    }
   },
   "id": "b4844f31aee9a0c6",
   "execution_count": null
  },
  {
   "cell_type": "code",
   "outputs": [],
   "source": [
    "from sklearn.model_selection import train_test_split\n",
    "\n",
    "from src.model.LogisticRegression import LogisticRegression\n",
    "from src.optim.IWLS import IWLS\n",
    "from src.optim.conditions import MaxIterationCondition\n",
    "\n",
    "train_x, test_x, train_y, test_y = train_test_split(x, y, test_size=0.3, stratify=y, random_state=42)\n",
    "\n",
    "accs = []\n",
    "for i in range(1, 20):\n",
    "    model = LogisticRegression()\n",
    "    optim = IWLS(model, MaxIterationCondition(i))\n",
    "\n",
    "    model = optim.optimize(train_x, train_y)\n",
    "\n",
    "    balanced_acc = balanced_accuracy_score(test_y, model.predict(test_x))\n",
    "    accs.append(balanced_acc)\n"
   ],
   "metadata": {
    "collapsed": false,
    "ExecuteTime": {
     "start_time": "2024-03-11T17:29:32.648396656Z"
    }
   },
   "id": "76bfa8059ec10873",
   "execution_count": null
  },
  {
   "cell_type": "code",
   "outputs": [],
   "source": [
    "import seaborn as sns\n",
    "sns.lineplot(x=list(range(1,20)), y=accs)"
   ],
   "metadata": {
    "collapsed": false,
    "ExecuteTime": {
     "start_time": "2024-03-11T17:29:32.648526899Z"
    }
   },
   "id": "63b5c370b45551da",
   "execution_count": null
  },
  {
   "cell_type": "code",
   "outputs": [],
   "source": [],
   "metadata": {
    "collapsed": false,
    "ExecuteTime": {
     "start_time": "2024-03-11T17:29:32.648582714Z"
    }
   },
   "id": "bf70d088a99291dc"
  }
 ],
 "metadata": {
  "kernelspec": {
   "display_name": "Python 3",
   "language": "python",
   "name": "python3"
  },
  "language_info": {
   "codemirror_mode": {
    "name": "ipython",
    "version": 2
   },
   "file_extension": ".py",
   "mimetype": "text/x-python",
   "name": "python",
   "nbconvert_exporter": "python",
   "pygments_lexer": "ipython2",
   "version": "2.7.6"
  }
 },
 "nbformat": 4,
 "nbformat_minor": 5
}

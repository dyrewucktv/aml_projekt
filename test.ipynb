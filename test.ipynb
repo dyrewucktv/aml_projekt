{
 "cells": [
  {
   "cell_type": "code",
   "execution_count": 1,
   "id": "initial_id",
   "metadata": {
    "collapsed": true,
    "ExecuteTime": {
     "end_time": "2024-03-16T22:16:24.219650111Z",
     "start_time": "2024-03-16T22:16:24.021098466Z"
    }
   },
   "outputs": [
    {
     "data": {
      "text/plain": "array([(-0.015119,  0.360741,  0.469398,  1.309675,  0.988024, -0.025493,  0.664071,  0.062763, b'P'),\n       ( 0.360478, -0.301395,  0.629183, -1.440146, -0.741637, -1.19675 , -1.038444, -0.717461, b'P'),\n       ( 1.563238, -1.294753,  0.078987,  1.432937,  1.149136, -1.29214 ,  1.562988, -0.937731, b'P'),\n       ...,\n       ( 0.103862,  1.024329, -1.047221,  0.280905, -0.181155, -0.651934, -1.241842,  1.53022 , b'N'),\n       (-1.109311, -0.02769 , -1.448736, -0.648566, -0.462142,  0.814971,  1.100615,  1.337159, b'N'),\n       ( 1.155011, -0.429331, -1.56726 ,  0.883077, -1.203777, -0.126506,  0.331042, -1.327384, b'P')],\n      dtype=[('theta1', '<f8'), ('theta2', '<f8'), ('theta3', '<f8'), ('theta4', '<f8'), ('theta5', '<f8'), ('theta6', '<f8'), ('theta7', '<f8'), ('theta8', '<f8'), ('binaryClass', 'S1')])"
     },
     "execution_count": 1,
     "metadata": {},
     "output_type": "execute_result"
    }
   ],
   "source": [
    "from scipy.io import arff\n",
    "import numpy as np\n",
    "from sklearn.metrics import balanced_accuracy_score\n",
    "\n",
    "f = open('data/kin8nm.arff', 'r', encoding='utf-8')\n",
    "data, meta = arff.loadarff(f)\n",
    "data"
   ]
  },
  {
   "cell_type": "code",
   "execution_count": 2,
   "id": "9d7f8ae72455b08c",
   "metadata": {
    "collapsed": false,
    "ExecuteTime": {
     "end_time": "2024-03-16T22:16:24.267687067Z",
     "start_time": "2024-03-16T22:16:24.228694093Z"
    }
   },
   "outputs": [],
   "source": [
    "# Na dole jest przykład jak wczytywać dane - jest klasa DataLoader jak coś\n",
    "data = np.array(data.tolist(), dtype=object)\n",
    "# y = np.array(data.tolist()[:, -1], dtype=object)\n",
    "x = data[:, :-1].astype(float)\n",
    "# y= (data[:, -1] - 1)\n",
    "# x"
   ]
  },
  {
   "cell_type": "code",
   "execution_count": 3,
   "id": "c03f35479a58880",
   "metadata": {
    "collapsed": false,
    "ExecuteTime": {
     "end_time": "2024-03-16T22:16:24.610504611Z",
     "start_time": "2024-03-16T22:16:24.234992586Z"
    }
   },
   "outputs": [
    {
     "ename": "NameError",
     "evalue": "name 'y' is not defined",
     "output_type": "error",
     "traceback": [
      "\u001B[0;31m---------------------------------------------------------------------------\u001B[0m",
      "\u001B[0;31mNameError\u001B[0m                                 Traceback (most recent call last)",
      "Cell \u001B[0;32mIn[3], line 9\u001B[0m\n\u001B[1;32m      6\u001B[0m \u001B[38;5;28;01mfrom\u001B[39;00m \u001B[38;5;21;01msrc\u001B[39;00m\u001B[38;5;21;01m.\u001B[39;00m\u001B[38;5;21;01moptim\u001B[39;00m\u001B[38;5;21;01m.\u001B[39;00m\u001B[38;5;21;01mADAM\u001B[39;00m \u001B[38;5;28;01mimport\u001B[39;00m ADAM\n\u001B[1;32m      7\u001B[0m \u001B[38;5;28;01mfrom\u001B[39;00m \u001B[38;5;21;01msrc\u001B[39;00m\u001B[38;5;21;01m.\u001B[39;00m\u001B[38;5;21;01moptim\u001B[39;00m\u001B[38;5;21;01m.\u001B[39;00m\u001B[38;5;21;01mconditions\u001B[39;00m \u001B[38;5;28;01mimport\u001B[39;00m MaxIterationCondition, NoLogLikImprovementCondition\n\u001B[0;32m----> 9\u001B[0m train_x, test_x, train_y, test_y \u001B[38;5;241m=\u001B[39m train_test_split(x, \u001B[43my\u001B[49m, test_size\u001B[38;5;241m=\u001B[39m\u001B[38;5;241m0.3\u001B[39m, stratify\u001B[38;5;241m=\u001B[39my, random_state\u001B[38;5;241m=\u001B[39m\u001B[38;5;241m42\u001B[39m)\n\u001B[1;32m     11\u001B[0m model \u001B[38;5;241m=\u001B[39m LogisticRegression()\n\u001B[1;32m     12\u001B[0m optim \u001B[38;5;241m=\u001B[39m IWLS(model, NoLogLikImprovementCondition(\u001B[38;5;241m1\u001B[39m))\n",
      "\u001B[0;31mNameError\u001B[0m: name 'y' is not defined"
     ]
    }
   ],
   "source": [
    "from sklearn.model_selection import train_test_split\n",
    "\n",
    "from src.model.LogisticRegression import LogisticRegression\n",
    "from src.optim.IWLS import IWLS\n",
    "from src.optim.SGD import SGD\n",
    "from src.optim.ADAM import ADAM\n",
    "from src.optim.conditions import MaxIterationCondition, NoLogLikImprovementCondition\n",
    "\n",
    "train_x, test_x, train_y, test_y = train_test_split(x, y, test_size=0.3, stratify=y, random_state=42)\n",
    "\n",
    "model = LogisticRegression()\n",
    "optim = IWLS(model, NoLogLikImprovementCondition(1))\n",
    "\n",
    "model = optim.optimize(train_x, train_y)\n",
    "balanced_accuracy_score(test_y, model.predict(test_x))"
   ]
  },
  {
   "cell_type": "code",
   "execution_count": null,
   "id": "205c3a0a25d694f",
   "metadata": {
    "collapsed": false,
    "ExecuteTime": {
     "start_time": "2024-03-16T22:16:24.584337118Z"
    }
   },
   "outputs": [],
   "source": [
    "optim.stop_condition.epoch"
   ]
  },
  {
   "cell_type": "code",
   "execution_count": null,
   "id": "d658d6a00d68671c",
   "metadata": {
    "collapsed": false,
    "ExecuteTime": {
     "end_time": "2024-03-16T22:16:24.671445715Z",
     "start_time": "2024-03-16T22:16:24.628277650Z"
    }
   },
   "outputs": [],
   "source": [
    "model.weights"
   ]
  },
  {
   "cell_type": "code",
   "execution_count": null,
   "id": "a6d416c521292956",
   "metadata": {
    "collapsed": false,
    "ExecuteTime": {
     "start_time": "2024-03-16T22:16:24.628602765Z"
    }
   },
   "outputs": [],
   "source": [
    "print(model.weights)"
   ]
  },
  {
   "cell_type": "code",
   "execution_count": null,
   "id": "892948d01f9b1f1b",
   "metadata": {
    "collapsed": false,
    "ExecuteTime": {
     "start_time": "2024-03-16T22:16:24.628793971Z"
    }
   },
   "outputs": [],
   "source": [
    "model.predict(test_x)"
   ]
  },
  {
   "cell_type": "code",
   "execution_count": null,
   "id": "b4844f31aee9a0c6",
   "metadata": {
    "collapsed": false,
    "ExecuteTime": {
     "start_time": "2024-03-16T22:16:24.628989325Z"
    }
   },
   "outputs": [],
   "source": [
    "raise ValueError()"
   ]
  },
  {
   "cell_type": "code",
   "execution_count": null,
   "id": "76bfa8059ec10873",
   "metadata": {
    "collapsed": false,
    "ExecuteTime": {
     "start_time": "2024-03-16T22:16:24.629177445Z"
    }
   },
   "outputs": [],
   "source": [
    "from sklearn.model_selection import train_test_split\n",
    "\n",
    "from src.model.LogisticRegression import LogisticRegression\n",
    "from src.optim.IWLS import IWLS\n",
    "from src.optim.conditions import MaxIterationCondition\n",
    "\n",
    "train_x, test_x, train_y, test_y = train_test_split(x, y, test_size=0.3, stratify=y, random_state=42)\n",
    "\n",
    "accs = []\n",
    "for i in range(1, 20):\n",
    "    model = LogisticRegression()\n",
    "    optim = IWLS(model, MaxIterationCondition(i))\n",
    "\n",
    "    model = optim.optimize(train_x, train_y)\n",
    "\n",
    "    balanced_acc = balanced_accuracy_score(test_y, model.predict(test_x))\n",
    "    accs.append(balanced_acc)\n"
   ]
  },
  {
   "cell_type": "code",
   "execution_count": null,
   "id": "63b5c370b45551da",
   "metadata": {
    "collapsed": false,
    "ExecuteTime": {
     "start_time": "2024-03-16T22:16:24.629368631Z"
    }
   },
   "outputs": [],
   "source": [
    "import seaborn as sns\n",
    "sns.lineplot(x=list(range(1,20)), y=accs)"
   ]
  },
  {
   "cell_type": "code",
   "execution_count": 1,
   "id": "82f654d0",
   "metadata": {
    "ExecuteTime": {
     "end_time": "2024-03-16T22:31:43.449462940Z",
     "start_time": "2024-03-16T22:31:42.434922155Z"
    }
   },
   "outputs": [
    {
     "name": "stdout",
     "output_type": "stream",
     "text": [
      "banknote\n",
      "(1372, 2)\n",
      "0.6537571288806165\n",
      "[0 0 1 1 0 0 1 1 0 1 0 0 1 0 0 1 1 0 1 1 1 0 0 1 0 0 1 0 0 1 0 1 1 0 0 1 1\n",
      " 0 1 1 1 1 1 1 1 0 0 1 0 0 0 0 1 1 0 0 0 0 1 0 1 1 1 1 0 0 0 1 1 0 1 1 1 1\n",
      " 0 0 0 1 1 1 0 0 1 1 1 0 0 0 1 1 0 0 1 0 1 0 0 0 1 1 0 0 0 0 0 1 1 0 0 0 0\n",
      " 1 1 0 0 0 0 0 1 1 1 0 0 1 0 1 1 0 0 0 1 1 0 0 1 1 0 1 1 0 1 1 0 1 0 1 1 0\n",
      " 1 0 0 1 1 1 1 0 0 0 0 0 0 1 0 0 0 1 1 1 1 1 1 0 1 0 0 0 1 1 1 0 0 0 1 1 0\n",
      " 1 0 0 1 1 0 0 0 1 1 1 0 0 0 0 0 0 1 1 0 0 1 0 1 1 0 0 1 0 1 1 1 0 1 0 1 1\n",
      " 1 1 0 0 0 0 1 0 1 1 1 0 1 0 0 1 1 1 1 0 0 0 0 0 0 1 0 0 0 0 1 0 0 0 0 0 1\n",
      " 1 1 1 1 0 0 1 1 1 1 0 1 0 1 1 1 1 0 0 1 1 1 0 1 1 0 1 0 1 1 1 1 0 1 0 1 0\n",
      " 1 1 1 1 1 1 0 0 0 1 1 1 0 1 1 0 0 0 1 0 0 1 1 1 1 0 1 1 1 1 1 0 1 1 1 0 1\n",
      " 0 1 1 0 0 1 0 0 0 1 1 0 0 1 0 0 0 0 1 0 1 1 1 1 0 0 0 0 1 1 1 1 0 1 0 0 1\n",
      " 0 0 0 1 0 0 1 0 1 1 1 0 1 0 1 1 0 0 1 1 0 1 0 1 1 0 1 0 1 1 0 1 0 1 1 1 0\n",
      " 0 0 1 1 0]\n",
      "---\n",
      "kin8nm\n",
      "(8192, 8)\n",
      "0.567457218980408\n",
      "[0 1 0 ... 1 0 0]\n",
      "---\n",
      "phoneme\n",
      "(5404, 5)\n",
      "0.5383082552392685\n",
      "[1 1 0 ... 0 1 0]\n",
      "---\n",
      "elevators\n",
      "(16599, 11)\n",
      "0.4904196783087558\n",
      "[1 0 0 ... 0 0 0]\n",
      "---\n",
      "jm1\n",
      "(10880, 4)\n",
      "0.5\n",
      "[0 0 0 ... 0 0 0]\n",
      "---\n",
      "kdd_JapaneseVowels\n",
      "(9961, 14)\n",
      "0.5094026822388281\n",
      "[0 0 0 ... 0 0 0]\n",
      "---\n",
      "mfeat-karhunen\n",
      "(2000, 64)\n",
      "0.8138888888888889\n",
      "[1 0 0 0 0 1 0 1 0 0 0 0 0 1 0 0 0 0 0 0 1 1 0 0 0 0 1 0 0 1 0 0 0 0 0 0 1\n",
      " 1 0 1 0 1 0 0 1 0 1 0 0 0 1 0 1 0 1 1 0 1 1 0 0 0 1 0 1 0 1 0 1 0 1 0 0 0\n",
      " 0 0 0 0 1 0 0 0 1 1 0 0 0 1 0 1 1 0 1 0 0 0 1 1 0 0 1 1 0 0 0 1 0 1 0 1 0\n",
      " 0 1 0 0 0 0 0 0 1 0 0 0 1 1 1 0 0 1 1 1 1 1 0 1 1 0 0 0 0 0 1 1 1 0 1 0 1\n",
      " 1 0 0 0 0 0 1 1 1 0 0 0 0 1 0 0 0 0 1 1 0 0 0 0 0 1 0 0 0 1 0 0 1 0 0 0 0\n",
      " 1 0 0 0 0 0 0 0 0 1 0 0 0 0 1 0 0 0 0 1 1 0 0 0 0 0 0 0 1 0 0 0 0 0 0 0 1\n",
      " 0 0 1 1 0 0 0 0 0 0 0 1 0 0 0 0 0 0 0 0 0 0 0 1 0 0 0 0 0 1 0 1 1 0 0 0 0\n",
      " 0 0 1 0 0 0 0 0 0 0 0 1 0 0 0 1 0 0 0 0 1 0 0 0 0 0 0 1 0 0 1 0 1 0 1 0 0\n",
      " 0 1 0 0 0 0 1 1 1 0 1 1 1 0 1 1 0 0 0 0 0 1 0 0 0 0 0 0 1 1 1 0 0 0 0 0 0\n",
      " 0 1 0 0 1 1 1 0 1 1 0 0 0 1 0 1 1 1 0 1 0 0 0 0 0 1 0 0 1 0 1 0 0 1 1 1 0\n",
      " 0 1 1 0 0 0 0 0 0 0 0 0 1 0 1 0 1 0 0 0 0 0 1 0 1 1 0 0 0 0 1 1 1 0 0 0 0\n",
      " 0 1 0 1 0 0 0 0 0 1 0 0 0 0 1 1 0 0 0 1 0 0 1 0 0 0 1 0 1 0 0 0 0 0 0 1 1\n",
      " 0 0 1 0 1 1 0 1 0 0 0 0 0 1 0 0 0 0 1 1 0 0 1 0 0 1 1 0 0 0 0 0 0 0 0 0 0\n",
      " 0 0 1 0 0 1 0 0 0 0 0 0 0 0 1 1 0 1 0 1 0 0 1 0 0 0 0 0 1 1 0 0 0 1 1 0 0\n",
      " 0 0 0 1 0 0 0 1 0 0 0 0 0 0 1 0 0 0 1 1 0 0 0 1 1 0 0 0 0 0 1 0 0 0 0 0 0\n",
      " 1 0 0 0 0 0 1 0 0 0 0 0 0 0 0 1 0 1 0 0 0 0 1 0 0 0 1 0 1 0 0 1 0 0 0 1 1\n",
      " 1 1 0 0 0 0 0 0]\n",
      "---\n",
      "mfeat-zernike\n",
      "(2000, 10)\n",
      "0.5\n",
      "[0 0 0 0 0 0 0 0 0 0 0 0 0 0 0 0 0 0 0 0 0 0 0 0 0 0 0 0 0 0 0 0 0 0 0 0 0\n",
      " 0 0 0 0 0 0 0 0 0 0 0 0 0 0 0 0 0 0 0 0 0 0 0 0 0 0 0 0 0 0 0 0 0 0 0 0 0\n",
      " 0 0 0 0 0 0 0 0 0 0 0 0 0 0 0 0 0 0 0 0 0 0 0 0 0 0 0 0 0 0 0 0 0 0 0 0 0\n",
      " 0 0 0 0 0 0 0 0 0 0 0 0 0 0 0 0 0 0 0 0 0 0 0 0 0 0 0 0 0 0 0 0 0 0 0 0 0\n",
      " 0 0 0 0 0 0 0 0 0 0 0 0 0 0 0 0 0 0 0 0 0 0 0 0 0 0 0 0 0 0 0 0 0 0 0 0 0\n",
      " 0 0 0 0 0 0 0 0 0 0 0 0 0 0 0 0 0 0 0 0 0 0 0 0 0 0 0 0 0 0 0 0 0 0 0 0 0\n",
      " 0 0 0 0 0 0 0 0 0 0 0 0 0 0 0 0 0 0 0 0 0 0 0 0 0 0 0 0 0 0 0 0 0 0 0 0 0\n",
      " 0 0 0 0 0 0 0 0 0 0 0 0 0 0 0 0 0 0 0 0 0 0 0 0 0 0 0 0 0 0 0 0 0 0 0 0 0\n",
      " 0 0 0 0 0 0 0 0 0 0 0 0 0 0 0 0 0 0 0 0 0 0 0 0 0 0 0 0 0 0 0 0 0 0 0 0 0\n",
      " 0 0 0 0 0 0 0 0 0 0 0 0 0 0 0 0 0 0 0 0 0 0 0 0 0 0 0 0 0 0 0 0 0 0 0 0 0\n",
      " 0 0 0 0 0 0 0 0 0 0 0 0 0 0 0 0 0 0 0 0 0 0 0 0 0 0 0 0 0 0 0 0 0 0 0 0 0\n",
      " 0 0 0 0 0 0 0 0 0 0 0 0 0 0 0 0 0 0 0 0 0 0 0 0 0 0 0 0 0 0 0 0 0 0 0 0 0\n",
      " 0 0 0 0 0 0 0 0 0 0 0 0 0 0 0 0 0 0 0 0 0 0 0 0 0 0 0 0 0 0 0 0 0 0 0 0 0\n",
      " 0 0 0 0 0 0 0 0 0 0 0 0 0 0 0 0 0 0 0 0 0 0 0 0 0 0 0 0 0 0 0 0 0 0 0 0 0\n",
      " 0 0 0 0 0 0 0 0 0 0 0 0 0 0 0 0 0 0 0 0 0 0 0 0 0 0 0 0 0 0 0 0 0 0 0 0 0\n",
      " 0 0 0 0 0 0 0 0 0 0 0 0 0 0 0 0 0 0 0 0 0 0 0 0 0 0 0 0 0 0 0 0 0 0 0 0 0\n",
      " 0 0 0 0 0 0 0 0]\n",
      "---\n",
      "pc1\n",
      "(1109, 4)\n",
      "0.6170406732117812\n",
      "[1 0 1 1 1 1 1 1 1 1 0 0 1 0 1 1 1 1 1 0 1 0 1 1 0 0 1 0 0 1 1 1 1 0 0 1 0\n",
      " 1 1 1 0 1 1 1 1 1 1 1 1 0 0 0 1 1 0 1 1 1 1 0 0 1 1 1 1 1 1 0 1 0 1 1 1 1\n",
      " 1 0 0 1 1 1 1 0 1 1 1 0 0 1 0 1 0 1 1 1 1 1 1 0 1 1 1 1 1 0 1 1 1 1 1 1 1\n",
      " 1 0 1 1 1 1 1 0 1 1 1 1 0 0 0 0 1 1 1 1 1 1 0 1 0 1 0 1 0 1 0 1 1 0 0 1 0\n",
      " 0 0 1 0 0 1 0 0 1 1 1 1 0 1 1 0 0 1 1 1 1 0 0 1 1 1 0 0 1 1 1 1 0 0 0 1 1\n",
      " 0 1 0 1 0 1 0 0 1 0 1 1 0 1 0 0 1 1 1 0 1 1 0 0 1 0 0 0 0 1 0 1 1 0 1 1 1\n",
      " 1 1 0 1 1 1 1 1 1 1 1 1 1 1 1 1 1 1 1 1 0 1 0 0 1 0 0 1 1 1 1 0 1 1 1 1 1\n",
      " 1 1 0 1 1 1 1 1 0 0 1 1 1 1 0 0 1 0 1 0 1 1 0 0 1 1 0 0 0 0 1 1 1 1 1 1 1\n",
      " 0 1 1 0 1 1 1 1 1 1 0 0 1 0 1 1 0 1 0 0 1 1 1 0 0 0 1 1 0 0 1 0 0 0 0 1 1]\n",
      "---\n"
     ]
    }
   ],
   "source": [
    "from sklearn.model_selection import train_test_split\n",
    "from src.model.LogisticRegression import LogisticRegression\n",
    "from src.optim.IWLS import IWLS\n",
    "from src.optim.SGD import SGD\n",
    "from src.optim.ADAM import ADAM\n",
    "from src.optim.conditions import MaxIterationCondition, NoLogLikImprovementCondition\n",
    "from src.data_loader.DataLoader import DataLoader\n",
    "from sklearn.metrics import balanced_accuracy_score\n",
    "import warnings\n",
    "warnings.filterwarnings('ignore')\n",
    "\n",
    "# Example of usage\n",
    "dl = DataLoader(product=True)\n",
    "sd = dl.get_supported_datasets()\n",
    "for d in sd:\n",
    "    print(d)\n",
    "    x, y = dl[d]\n",
    "    train_x, test_x, train_y, test_y = train_test_split(x, y, test_size=0.3, stratify=y, random_state=42)\n",
    "\n",
    "    model = LogisticRegression()\n",
    "    optim = ADAM(model, MaxIterationCondition(10))\n",
    "\n",
    "    model = optim.optimize(train_x, train_y)\n",
    "    print(balanced_accuracy_score(test_y, model.predict(test_x)))\n",
    "\n",
    "    print(model.predict(test_x))\n",
    "\n",
    "    print('---')"
   ]
  },
  {
   "cell_type": "code",
   "execution_count": null,
   "id": "47a8313c",
   "metadata": {
    "ExecuteTime": {
     "start_time": "2024-03-16T22:16:24.629747336Z"
    }
   },
   "outputs": [],
   "source": [
    "dl['pc1'][1] "
   ]
  }
 ],
 "metadata": {
  "kernelspec": {
   "display_name": "Python 3",
   "language": "python",
   "name": "python3"
  },
  "language_info": {
   "codemirror_mode": {
    "name": "ipython",
    "version": 3
   },
   "file_extension": ".py",
   "mimetype": "text/x-python",
   "name": "python",
   "nbconvert_exporter": "python",
   "pygments_lexer": "ipython3",
   "version": "3.10.6"
  }
 },
 "nbformat": 4,
 "nbformat_minor": 5
}

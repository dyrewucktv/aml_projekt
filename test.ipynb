{
 "cells": [
  {
   "cell_type": "code",
   "execution_count": 1,
   "id": "82f654d0",
   "metadata": {
    "ExecuteTime": {
     "end_time": "2024-03-16T23:31:19.983854154Z",
     "start_time": "2024-03-16T23:15:45.588660472Z"
    }
   },
   "outputs": [
    {
     "name": "stdout",
     "output_type": "stream",
     "text": [
      "banknote\n",
      "(1372, 2)\n",
      "ADAM\n",
      "IWLS\n",
      "SGD\n",
      "ADAM\n",
      "IWLS\n",
      "SGD\n",
      "ADAM\n",
      "IWLS\n",
      "SGD\n",
      "kin8nm\n",
      "(8192, 8)\n",
      "ADAM\n",
      "IWLS\n",
      "SGD\n",
      "ADAM\n",
      "IWLS\n",
      "SGD\n",
      "ADAM\n",
      "IWLS\n",
      "SGD\n",
      "phoneme\n",
      "(5404, 5)\n",
      "ADAM\n",
      "IWLS\n",
      "SGD\n",
      "ADAM\n",
      "IWLS\n",
      "SGD\n",
      "ADAM\n",
      "IWLS\n",
      "SGD\n",
      "elevators\n",
      "(16599, 11)\n",
      "ADAM\n",
      "IWLS\n"
     ]
    },
    {
     "name": "stderr",
     "output_type": "stream",
     "text": [
      "Exception ignored in: <bound method IPythonKernel._clean_thread_parent_frames of <ipykernel.ipkernel.IPythonKernel object at 0x7efbf25be900>>\n",
      "Traceback (most recent call last):\n",
      "  File \"/home/mikolaj/aml_projekt/.venv/lib/python3.12/site-packages/ipykernel/ipkernel.py\", line 770, in _clean_thread_parent_frames\n",
      "    def _clean_thread_parent_frames(\n",
      "\n",
      "KeyboardInterrupt: \n"
     ]
    },
    {
     "ename": "KeyboardInterrupt",
     "evalue": "",
     "output_type": "error",
     "traceback": [
      "\u001B[0;31m---------------------------------------------------------------------------\u001B[0m",
      "\u001B[0;31mKeyboardInterrupt\u001B[0m                         Traceback (most recent call last)",
      "Cell \u001B[0;32mIn[1], line 44\u001B[0m\n\u001B[1;32m     42\u001B[0m model \u001B[38;5;241m=\u001B[39m LogisticRegression()\n\u001B[1;32m     43\u001B[0m optim \u001B[38;5;241m=\u001B[39m IWLS(model, NoLogLikOrMaxIterCondition(\u001B[38;5;241m50\u001B[39m, \u001B[38;5;241m1e-3\u001B[39m))\n\u001B[0;32m---> 44\u001B[0m model \u001B[38;5;241m=\u001B[39m \u001B[43moptim\u001B[49m\u001B[38;5;241;43m.\u001B[39;49m\u001B[43moptimize\u001B[49m\u001B[43m(\u001B[49m\u001B[43mtrain_x\u001B[49m\u001B[43m,\u001B[49m\u001B[43m \u001B[49m\u001B[43mtrain_y\u001B[49m\u001B[43m)\u001B[49m\n\u001B[1;32m     45\u001B[0m end \u001B[38;5;241m=\u001B[39m time\u001B[38;5;241m.\u001B[39mtime()\n\u001B[1;32m     46\u001B[0m rows\u001B[38;5;241m.\u001B[39mappend(\n\u001B[1;32m     47\u001B[0m     {\u001B[38;5;124m\"\u001B[39m\u001B[38;5;124moptim\u001B[39m\u001B[38;5;124m\"\u001B[39m: \u001B[38;5;124m\"\u001B[39m\u001B[38;5;124mIWLS\u001B[39m\u001B[38;5;124m\"\u001B[39m, \u001B[38;5;124m\"\u001B[39m\u001B[38;5;124mtime\u001B[39m\u001B[38;5;124m\"\u001B[39m: start \u001B[38;5;241m-\u001B[39m end, \u001B[38;5;124m\"\u001B[39m\u001B[38;5;124maccuracy\u001B[39m\u001B[38;5;124m\"\u001B[39m: balanced_accuracy_score(test_y, model\u001B[38;5;241m.\u001B[39mpredict(test_x)),\n\u001B[1;32m     48\u001B[0m      \u001B[38;5;124m\"\u001B[39m\u001B[38;5;124mrandom_state\u001B[39m\u001B[38;5;124m\"\u001B[39m: random_state, \u001B[38;5;124m\"\u001B[39m\u001B[38;5;124miters\u001B[39m\u001B[38;5;124m\"\u001B[39m: optim\u001B[38;5;241m.\u001B[39mstop_condition\u001B[38;5;241m.\u001B[39mepoch})\n",
      "File \u001B[0;32m~/aml_projekt/src/optim/IWLS.py:15\u001B[0m, in \u001B[0;36mIWLS.optimize\u001B[0;34m(self, x, y)\u001B[0m\n\u001B[1;32m     13\u001B[0m p \u001B[38;5;241m=\u001B[39m \u001B[38;5;28mself\u001B[39m\u001B[38;5;241m.\u001B[39mmodel\u001B[38;5;241m.\u001B[39mpredict_probs(x)\n\u001B[1;32m     14\u001B[0m w \u001B[38;5;241m=\u001B[39m np\u001B[38;5;241m.\u001B[39mdiag(np\u001B[38;5;241m.\u001B[39mmaximum(p \u001B[38;5;241m*\u001B[39m (\u001B[38;5;241m1\u001B[39m \u001B[38;5;241m-\u001B[39m p), \u001B[38;5;28mself\u001B[39m\u001B[38;5;241m.\u001B[39mdelta))\n\u001B[0;32m---> 15\u001B[0m z \u001B[38;5;241m=\u001B[39m x \u001B[38;5;241m@\u001B[39m \u001B[38;5;28mself\u001B[39m\u001B[38;5;241m.\u001B[39mmodel\u001B[38;5;241m.\u001B[39mweights \u001B[38;5;241m+\u001B[39m \u001B[43mnp\u001B[49m\u001B[38;5;241;43m.\u001B[39;49m\u001B[43mlinalg\u001B[49m\u001B[38;5;241;43m.\u001B[39;49m\u001B[43minv\u001B[49m\u001B[43m(\u001B[49m\u001B[43mw\u001B[49m\u001B[43m)\u001B[49m \u001B[38;5;241m@\u001B[39m (y \u001B[38;5;241m-\u001B[39m p)\n\u001B[1;32m     16\u001B[0m b_new \u001B[38;5;241m=\u001B[39m np\u001B[38;5;241m.\u001B[39mlinalg\u001B[38;5;241m.\u001B[39minv(\n\u001B[1;32m     17\u001B[0m     (\u001B[38;5;241m1\u001B[39m \u001B[38;5;241m-\u001B[39m \u001B[38;5;28mself\u001B[39m\u001B[38;5;241m.\u001B[39mlambda_) \u001B[38;5;241m*\u001B[39m (x\u001B[38;5;241m.\u001B[39mT \u001B[38;5;241m@\u001B[39m w \u001B[38;5;241m@\u001B[39m x)\n\u001B[1;32m     18\u001B[0m     \u001B[38;5;241m+\u001B[39m \u001B[38;5;28mself\u001B[39m\u001B[38;5;241m.\u001B[39mlambda_ \u001B[38;5;241m*\u001B[39m np\u001B[38;5;241m.\u001B[39midentity(\u001B[38;5;28mself\u001B[39m\u001B[38;5;241m.\u001B[39mmodel\u001B[38;5;241m.\u001B[39mweights\u001B[38;5;241m.\u001B[39mshape[\u001B[38;5;241m0\u001B[39m])) \u001B[38;5;241m@\u001B[39m x\u001B[38;5;241m.\u001B[39mT \u001B[38;5;241m@\u001B[39m w \u001B[38;5;241m@\u001B[39m z\n\u001B[1;32m     19\u001B[0m \u001B[38;5;28mself\u001B[39m\u001B[38;5;241m.\u001B[39mmodel\u001B[38;5;241m.\u001B[39mweights \u001B[38;5;241m=\u001B[39m b_new\n",
      "File \u001B[0;32m~/aml_projekt/.venv/lib64/python3.12/site-packages/numpy/linalg/linalg.py:561\u001B[0m, in \u001B[0;36minv\u001B[0;34m(a)\u001B[0m\n\u001B[1;32m    559\u001B[0m signature \u001B[38;5;241m=\u001B[39m \u001B[38;5;124m'\u001B[39m\u001B[38;5;124mD->D\u001B[39m\u001B[38;5;124m'\u001B[39m \u001B[38;5;28;01mif\u001B[39;00m isComplexType(t) \u001B[38;5;28;01melse\u001B[39;00m \u001B[38;5;124m'\u001B[39m\u001B[38;5;124md->d\u001B[39m\u001B[38;5;124m'\u001B[39m\n\u001B[1;32m    560\u001B[0m extobj \u001B[38;5;241m=\u001B[39m get_linalg_error_extobj(_raise_linalgerror_singular)\n\u001B[0;32m--> 561\u001B[0m ainv \u001B[38;5;241m=\u001B[39m \u001B[43m_umath_linalg\u001B[49m\u001B[38;5;241;43m.\u001B[39;49m\u001B[43minv\u001B[49m\u001B[43m(\u001B[49m\u001B[43ma\u001B[49m\u001B[43m,\u001B[49m\u001B[43m \u001B[49m\u001B[43msignature\u001B[49m\u001B[38;5;241;43m=\u001B[39;49m\u001B[43msignature\u001B[49m\u001B[43m,\u001B[49m\u001B[43m \u001B[49m\u001B[43mextobj\u001B[49m\u001B[38;5;241;43m=\u001B[39;49m\u001B[43mextobj\u001B[49m\u001B[43m)\u001B[49m\n\u001B[1;32m    562\u001B[0m \u001B[38;5;28;01mreturn\u001B[39;00m wrap(ainv\u001B[38;5;241m.\u001B[39mastype(result_t, copy\u001B[38;5;241m=\u001B[39m\u001B[38;5;28;01mFalse\u001B[39;00m))\n",
      "\u001B[0;31mKeyboardInterrupt\u001B[0m: "
     ]
    }
   ],
   "source": [
    "import numpy as np\n",
    "import time\n",
    "import warnings\n",
    "\n",
    "from sklearn.metrics import balanced_accuracy_score\n",
    "from sklearn.model_selection import train_test_split\n",
    "\n",
    "from src.data_loader.DataLoader import DataLoader\n",
    "from src.model.LogisticRegression import LogisticRegression\n",
    "from src.optim.ADAM import ADAM\n",
    "from src.optim.IWLS import IWLS\n",
    "from src.optim.SGD import SGD\n",
    "from src.optim.conditions import NoLogLikOrMaxIterCondition\n",
    "\n",
    "warnings.filterwarnings('ignore')\n",
    "\n",
    "# Example of usage\n",
    "dl = DataLoader(product=True)\n",
    "sd = dl.get_supported_datasets()\n",
    "\n",
    "rows = []\n",
    "random_states = [420, 69, 42]\n",
    "for d in sd:\n",
    "    print(d)\n",
    "    x, y = dl[d]\n",
    "\n",
    "    for random_state in random_states:\n",
    "        np.random.seed(random_state)\n",
    "        train_x, test_x, train_y, test_y = train_test_split(x, y, test_size=0.3, stratify=y, random_state=random_state)\n",
    "        print(\"ADAM\")\n",
    "        start = time.time()\n",
    "        model = LogisticRegression()\n",
    "        optim = ADAM(model, NoLogLikOrMaxIterCondition(50, 1e-3))\n",
    "        model = optim.optimize(train_x, train_y)\n",
    "        end = time.time()\n",
    "        rows.append(\n",
    "            {\"dataset\": d, \"optim\": \"ADAM\", \"time\": start - end, \"accuracy\": balanced_accuracy_score(test_y, model.predict(test_x)),\n",
    "             \"random_state\": random_state, \"iters\": optim.stop_condition.epoch})\n",
    "\n",
    "        print(\"IWLS\")\n",
    "        start = time.time()\n",
    "        model = LogisticRegression()\n",
    "        optim = IWLS(model, NoLogLikOrMaxIterCondition(50, 1e-3))\n",
    "        model = optim.optimize(train_x, train_y)\n",
    "        end = time.time()\n",
    "        rows.append(\n",
    "            {\"dataset\": d, \"optim\": \"IWLS\", \"time\": start - end, \"accuracy\": balanced_accuracy_score(test_y, model.predict(test_x)),\n",
    "             \"random_state\": random_state, \"iters\": optim.stop_condition.epoch})\n",
    "\n",
    "        print(\"SGD\")\n",
    "        start = time.time()\n",
    "        model = LogisticRegression()\n",
    "        optim = SGD(model, NoLogLikOrMaxIterCondition(50, 1e-3))\n",
    "        model = optim.optimize(train_x, train_y)\n",
    "        end = time.time()\n",
    "        rows.append(\n",
    "            {\"dataset\": d, \"optim\": \"SGD\", \"time\": start - end, \"accuracy\": balanced_accuracy_score(test_y, model.predict(test_x)),\n",
    "             \"random_state\": random_state, \"iters\": optim.stop_condition.epoch})\n"
   ]
  },
  {
   "cell_type": "code",
   "outputs": [],
   "source": [
    "rows.append(\n",
    "            {\"optim\": \"SGD\", \"time\": start - end, \"accuracy\": balanced_accuracy_score(test_y, model.predict(test_x)),\n",
    "             \"random_state\": random_state, \"iters\": optim.stop_condition.epoch})\n"
   ],
   "metadata": {
    "collapsed": false,
    "ExecuteTime": {
     "end_time": "2024-03-16T23:31:40.615397867Z",
     "start_time": "2024-03-16T23:31:40.586283920Z"
    }
   },
   "id": "4fdff044bf87334e",
   "execution_count": 2
  },
  {
   "cell_type": "code",
   "execution_count": 3,
   "id": "47a8313c",
   "metadata": {
    "ExecuteTime": {
     "end_time": "2024-03-16T23:31:42.547117943Z",
     "start_time": "2024-03-16T23:31:42.529631731Z"
    }
   },
   "outputs": [
    {
     "data": {
      "text/plain": "   optim        time  accuracy  random_state  iters\n0   ADAM   -0.005760  0.853056           420     51\n1   IWLS   -1.096261  0.866729           420     51\n2    SGD   -0.011132  0.806655           420     51\n3   ADAM   -0.010754  0.825745            69     51\n4   IWLS   -1.362283  0.857434            69     51\n5    SGD   -0.010347  0.837772            69     51\n6   ADAM   -0.010794  0.832808            42     51\n7   IWLS   -1.193525  0.880939            42     51\n8    SGD   -0.010445  0.755888            42     51\n9   ADAM   -0.038868  0.692996           420     51\n10  IWLS -122.765020  0.803682           420     51\n11   SGD   -0.043857  0.664892           420     51\n12  ADAM   -0.042679  0.647897            69     51\n13  IWLS -117.366493  0.793545            69     51\n14   SGD   -0.048809  0.655691            69     51\n15  ADAM   -0.046008  0.696443            42     51\n16  IWLS -120.517331  0.789665            42     51\n17   SGD   -0.043506  0.619066            42     51\n18  ADAM   -0.029595  0.725281           420     51\n19  IWLS  -44.245153  0.702170           420     51\n20   SGD   -0.033437  0.663952           420     51\n21  ADAM   -0.035124  0.746290            69     51\n22  IWLS  -48.384478  0.678188            69     51\n23   SGD   -0.043803  0.644335            69     51\n24  ADAM   -0.042071  0.725428            42     51\n25  IWLS  -45.871842  0.699455            42     51\n26   SGD   -0.029855  0.747633            42     51\n27  ADAM   -0.074869  0.546942           420     51\n28   SGD    0.004739  0.653271           420     25",
      "text/html": "<div>\n<style scoped>\n    .dataframe tbody tr th:only-of-type {\n        vertical-align: middle;\n    }\n\n    .dataframe tbody tr th {\n        vertical-align: top;\n    }\n\n    .dataframe thead th {\n        text-align: right;\n    }\n</style>\n<table border=\"1\" class=\"dataframe\">\n  <thead>\n    <tr style=\"text-align: right;\">\n      <th></th>\n      <th>optim</th>\n      <th>time</th>\n      <th>accuracy</th>\n      <th>random_state</th>\n      <th>iters</th>\n    </tr>\n  </thead>\n  <tbody>\n    <tr>\n      <th>0</th>\n      <td>ADAM</td>\n      <td>-0.005760</td>\n      <td>0.853056</td>\n      <td>420</td>\n      <td>51</td>\n    </tr>\n    <tr>\n      <th>1</th>\n      <td>IWLS</td>\n      <td>-1.096261</td>\n      <td>0.866729</td>\n      <td>420</td>\n      <td>51</td>\n    </tr>\n    <tr>\n      <th>2</th>\n      <td>SGD</td>\n      <td>-0.011132</td>\n      <td>0.806655</td>\n      <td>420</td>\n      <td>51</td>\n    </tr>\n    <tr>\n      <th>3</th>\n      <td>ADAM</td>\n      <td>-0.010754</td>\n      <td>0.825745</td>\n      <td>69</td>\n      <td>51</td>\n    </tr>\n    <tr>\n      <th>4</th>\n      <td>IWLS</td>\n      <td>-1.362283</td>\n      <td>0.857434</td>\n      <td>69</td>\n      <td>51</td>\n    </tr>\n    <tr>\n      <th>5</th>\n      <td>SGD</td>\n      <td>-0.010347</td>\n      <td>0.837772</td>\n      <td>69</td>\n      <td>51</td>\n    </tr>\n    <tr>\n      <th>6</th>\n      <td>ADAM</td>\n      <td>-0.010794</td>\n      <td>0.832808</td>\n      <td>42</td>\n      <td>51</td>\n    </tr>\n    <tr>\n      <th>7</th>\n      <td>IWLS</td>\n      <td>-1.193525</td>\n      <td>0.880939</td>\n      <td>42</td>\n      <td>51</td>\n    </tr>\n    <tr>\n      <th>8</th>\n      <td>SGD</td>\n      <td>-0.010445</td>\n      <td>0.755888</td>\n      <td>42</td>\n      <td>51</td>\n    </tr>\n    <tr>\n      <th>9</th>\n      <td>ADAM</td>\n      <td>-0.038868</td>\n      <td>0.692996</td>\n      <td>420</td>\n      <td>51</td>\n    </tr>\n    <tr>\n      <th>10</th>\n      <td>IWLS</td>\n      <td>-122.765020</td>\n      <td>0.803682</td>\n      <td>420</td>\n      <td>51</td>\n    </tr>\n    <tr>\n      <th>11</th>\n      <td>SGD</td>\n      <td>-0.043857</td>\n      <td>0.664892</td>\n      <td>420</td>\n      <td>51</td>\n    </tr>\n    <tr>\n      <th>12</th>\n      <td>ADAM</td>\n      <td>-0.042679</td>\n      <td>0.647897</td>\n      <td>69</td>\n      <td>51</td>\n    </tr>\n    <tr>\n      <th>13</th>\n      <td>IWLS</td>\n      <td>-117.366493</td>\n      <td>0.793545</td>\n      <td>69</td>\n      <td>51</td>\n    </tr>\n    <tr>\n      <th>14</th>\n      <td>SGD</td>\n      <td>-0.048809</td>\n      <td>0.655691</td>\n      <td>69</td>\n      <td>51</td>\n    </tr>\n    <tr>\n      <th>15</th>\n      <td>ADAM</td>\n      <td>-0.046008</td>\n      <td>0.696443</td>\n      <td>42</td>\n      <td>51</td>\n    </tr>\n    <tr>\n      <th>16</th>\n      <td>IWLS</td>\n      <td>-120.517331</td>\n      <td>0.789665</td>\n      <td>42</td>\n      <td>51</td>\n    </tr>\n    <tr>\n      <th>17</th>\n      <td>SGD</td>\n      <td>-0.043506</td>\n      <td>0.619066</td>\n      <td>42</td>\n      <td>51</td>\n    </tr>\n    <tr>\n      <th>18</th>\n      <td>ADAM</td>\n      <td>-0.029595</td>\n      <td>0.725281</td>\n      <td>420</td>\n      <td>51</td>\n    </tr>\n    <tr>\n      <th>19</th>\n      <td>IWLS</td>\n      <td>-44.245153</td>\n      <td>0.702170</td>\n      <td>420</td>\n      <td>51</td>\n    </tr>\n    <tr>\n      <th>20</th>\n      <td>SGD</td>\n      <td>-0.033437</td>\n      <td>0.663952</td>\n      <td>420</td>\n      <td>51</td>\n    </tr>\n    <tr>\n      <th>21</th>\n      <td>ADAM</td>\n      <td>-0.035124</td>\n      <td>0.746290</td>\n      <td>69</td>\n      <td>51</td>\n    </tr>\n    <tr>\n      <th>22</th>\n      <td>IWLS</td>\n      <td>-48.384478</td>\n      <td>0.678188</td>\n      <td>69</td>\n      <td>51</td>\n    </tr>\n    <tr>\n      <th>23</th>\n      <td>SGD</td>\n      <td>-0.043803</td>\n      <td>0.644335</td>\n      <td>69</td>\n      <td>51</td>\n    </tr>\n    <tr>\n      <th>24</th>\n      <td>ADAM</td>\n      <td>-0.042071</td>\n      <td>0.725428</td>\n      <td>42</td>\n      <td>51</td>\n    </tr>\n    <tr>\n      <th>25</th>\n      <td>IWLS</td>\n      <td>-45.871842</td>\n      <td>0.699455</td>\n      <td>42</td>\n      <td>51</td>\n    </tr>\n    <tr>\n      <th>26</th>\n      <td>SGD</td>\n      <td>-0.029855</td>\n      <td>0.747633</td>\n      <td>42</td>\n      <td>51</td>\n    </tr>\n    <tr>\n      <th>27</th>\n      <td>ADAM</td>\n      <td>-0.074869</td>\n      <td>0.546942</td>\n      <td>420</td>\n      <td>51</td>\n    </tr>\n    <tr>\n      <th>28</th>\n      <td>SGD</td>\n      <td>0.004739</td>\n      <td>0.653271</td>\n      <td>420</td>\n      <td>25</td>\n    </tr>\n  </tbody>\n</table>\n</div>"
     },
     "execution_count": 3,
     "metadata": {},
     "output_type": "execute_result"
    }
   ],
   "source": [
    "import pandas as pd\n",
    "\n",
    "df = pd.DataFrame(rows)\n",
    "df"
   ]
  },
  {
   "cell_type": "code",
   "outputs": [
    {
     "data": {
      "text/plain": "29"
     },
     "execution_count": 5,
     "metadata": {},
     "output_type": "execute_result"
    }
   ],
   "source": [
    "len(rows)"
   ],
   "metadata": {
    "collapsed": false,
    "ExecuteTime": {
     "end_time": "2024-03-16T23:32:13.043543955Z",
     "start_time": "2024-03-16T23:32:13.039591557Z"
    }
   },
   "id": "15ebf30881123538",
   "execution_count": 5
  }
 ],
 "metadata": {
  "kernelspec": {
   "display_name": "Python 3",
   "language": "python",
   "name": "python3"
  },
  "language_info": {
   "codemirror_mode": {
    "name": "ipython",
    "version": 3
   },
   "file_extension": ".py",
   "mimetype": "text/x-python",
   "name": "python",
   "nbconvert_exporter": "python",
   "pygments_lexer": "ipython3",
   "version": "3.10.6"
  }
 },
 "nbformat": 4,
 "nbformat_minor": 5
}

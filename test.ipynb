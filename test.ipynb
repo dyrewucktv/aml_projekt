{
 "cells": [
  {
   "cell_type": "code",
   "execution_count": 54,
   "id": "initial_id",
   "metadata": {
    "ExecuteTime": {
     "end_time": "2024-03-11T17:29:22.354129443Z",
     "start_time": "2024-03-11T17:29:22.189448623Z"
    },
    "collapsed": true
   },
   "outputs": [
    {
     "data": {
      "text/plain": [
       "array([(-0.015119,  0.360741,  0.469398,  1.309675,  0.988024, -0.025493,  0.664071,  0.062763, b'P'),\n",
       "       ( 0.360478, -0.301395,  0.629183, -1.440146, -0.741637, -1.19675 , -1.038444, -0.717461, b'P'),\n",
       "       ( 1.563238, -1.294753,  0.078987,  1.432937,  1.149136, -1.29214 ,  1.562988, -0.937731, b'P'),\n",
       "       ...,\n",
       "       ( 0.103862,  1.024329, -1.047221,  0.280905, -0.181155, -0.651934, -1.241842,  1.53022 , b'N'),\n",
       "       (-1.109311, -0.02769 , -1.448736, -0.648566, -0.462142,  0.814971,  1.100615,  1.337159, b'N'),\n",
       "       ( 1.155011, -0.429331, -1.56726 ,  0.883077, -1.203777, -0.126506,  0.331042, -1.327384, b'P')],\n",
       "      dtype=[('theta1', '<f8'), ('theta2', '<f8'), ('theta3', '<f8'), ('theta4', '<f8'), ('theta5', '<f8'), ('theta6', '<f8'), ('theta7', '<f8'), ('theta8', '<f8'), ('binaryClass', 'S1')])"
      ]
     },
     "execution_count": 54,
     "metadata": {},
     "output_type": "execute_result"
    }
   ],
   "source": [
    "from scipy.io import arff\n",
    "import numpy as np\n",
    "from sklearn.metrics import balanced_accuracy_score\n",
    "\n",
    "f = open('data/kin8nm.arff', 'r', encoding='utf-8')\n",
    "data, meta = arff.loadarff(f)\n",
    "data"
   ]
  },
  {
   "cell_type": "code",
   "execution_count": 59,
   "id": "9d7f8ae72455b08c",
   "metadata": {
    "ExecuteTime": {
     "end_time": "2024-03-11T17:29:22.422470646Z",
     "start_time": "2024-03-11T17:29:22.367258395Z"
    },
    "collapsed": false
   },
   "outputs": [],
   "source": [
    "# Na dole jest przykład jak wczytywać dane - jest klasa DataLoader jak coś\n",
    "data = np.array(data.tolist(), dtype=object)\n",
    "# y = np.array(data.tolist()[:, -1], dtype=object)\n",
    "x = data[:, :-1].astype(float)\n",
    "# y= (data[:, -1] - 1)\n",
    "# x"
   ]
  },
  {
   "cell_type": "code",
   "execution_count": 26,
   "id": "c03f35479a58880",
   "metadata": {
    "ExecuteTime": {
     "end_time": "2024-03-11T17:29:51.826677290Z",
     "start_time": "2024-03-11T17:29:42.369354640Z"
    },
    "collapsed": false
   },
   "outputs": [
    {
     "data": {
      "text/plain": [
       "0.558765778401122"
      ]
     },
     "execution_count": 26,
     "metadata": {},
     "output_type": "execute_result"
    }
   ],
   "source": [
    "from sklearn.model_selection import train_test_split\n",
    "\n",
    "from src.model.LogisticRegression import LogisticRegression\n",
    "from src.optim.IWLS import IWLS\n",
    "from src.optim.SGD import SGD\n",
    "from src.optim.ADAM import ADAM\n",
    "from src.optim.conditions import MaxIterationCondition, NoLogLikImprovementCondition\n",
    "\n",
    "train_x, test_x, train_y, test_y = train_test_split(x, y, test_size=0.3, stratify=y, random_state=42)\n",
    "\n",
    "model = LogisticRegression()\n",
    "optim = IWLS(model, NoLogLikImprovementCondition(1))\n",
    "\n",
    "model = optim.optimize(train_x, train_y)\n",
    "balanced_accuracy_score(test_y, model.predict(test_x))"
   ]
  },
  {
   "cell_type": "code",
   "execution_count": 5,
   "id": "205c3a0a25d694f",
   "metadata": {
    "ExecuteTime": {
     "end_time": "2024-03-11T17:29:55.231010950Z",
     "start_time": "2024-03-11T17:29:55.225693586Z"
    },
    "collapsed": false
   },
   "outputs": [
    {
     "data": {
      "text/plain": [
       "38"
      ]
     },
     "execution_count": 5,
     "metadata": {},
     "output_type": "execute_result"
    }
   ],
   "source": [
    "optim.stop_condition.epoch"
   ]
  },
  {
   "cell_type": "code",
   "execution_count": 6,
   "id": "d658d6a00d68671c",
   "metadata": {
    "ExecuteTime": {
     "start_time": "2024-03-11T17:29:32.629733846Z"
    },
    "collapsed": false
   },
   "outputs": [
    {
     "data": {
      "text/plain": [
       "array([-0.00994713, -0.01611059,  0.00945837,  0.01735449,  0.00939425])"
      ]
     },
     "execution_count": 6,
     "metadata": {},
     "output_type": "execute_result"
    }
   ],
   "source": [
    "model.weights"
   ]
  },
  {
   "cell_type": "code",
   "execution_count": null,
   "id": "a6d416c521292956",
   "metadata": {
    "ExecuteTime": {
     "end_time": "2024-03-11T17:29:32.631486818Z",
     "start_time": "2024-03-11T17:29:32.631178232Z"
    },
    "collapsed": false
   },
   "outputs": [],
   "source": [
    "print(model.weights)"
   ]
  },
  {
   "cell_type": "code",
   "execution_count": 7,
   "id": "892948d01f9b1f1b",
   "metadata": {
    "ExecuteTime": {
     "start_time": "2024-03-11T17:29:32.632449645Z"
    },
    "collapsed": false
   },
   "outputs": [
    {
     "data": {
      "text/plain": [
       "array([0, 1, 0, ..., 0, 1, 0])"
      ]
     },
     "execution_count": 7,
     "metadata": {},
     "output_type": "execute_result"
    }
   ],
   "source": [
    "model.predict(test_x)"
   ]
  },
  {
   "cell_type": "code",
   "execution_count": null,
   "id": "b4844f31aee9a0c6",
   "metadata": {
    "ExecuteTime": {
     "start_time": "2024-03-11T17:29:32.633444512Z"
    },
    "collapsed": false
   },
   "outputs": [],
   "source": [
    "raise ValueError()"
   ]
  },
  {
   "cell_type": "code",
   "execution_count": null,
   "id": "76bfa8059ec10873",
   "metadata": {
    "ExecuteTime": {
     "start_time": "2024-03-11T17:29:32.648396656Z"
    },
    "collapsed": false
   },
   "outputs": [],
   "source": [
    "from sklearn.model_selection import train_test_split\n",
    "\n",
    "from src.model.LogisticRegression import LogisticRegression\n",
    "from src.optim.IWLS import IWLS\n",
    "from src.optim.conditions import MaxIterationCondition\n",
    "\n",
    "train_x, test_x, train_y, test_y = train_test_split(x, y, test_size=0.3, stratify=y, random_state=42)\n",
    "\n",
    "accs = []\n",
    "for i in range(1, 20):\n",
    "    model = LogisticRegression()\n",
    "    optim = IWLS(model, MaxIterationCondition(i))\n",
    "\n",
    "    model = optim.optimize(train_x, train_y)\n",
    "\n",
    "    balanced_acc = balanced_accuracy_score(test_y, model.predict(test_x))\n",
    "    accs.append(balanced_acc)\n"
   ]
  },
  {
   "cell_type": "code",
   "execution_count": null,
   "id": "63b5c370b45551da",
   "metadata": {
    "ExecuteTime": {
     "start_time": "2024-03-11T17:29:32.648526899Z"
    },
    "collapsed": false
   },
   "outputs": [],
   "source": [
    "import seaborn as sns\n",
    "sns.lineplot(x=list(range(1,20)), y=accs)"
   ]
  },
  {
   "cell_type": "code",
   "execution_count": 24,
   "id": "82f654d0",
   "metadata": {},
   "outputs": [
    {
     "name": "stdout",
     "output_type": "stream",
     "text": [
      "banknote\n",
      "0.9666881427923736\n",
      "[0 1 0 1 0 0 1 1 0 1 1 0 0 0 0 0 0 0 0 0 1 0 1 1 1 0 1 0 0 1 1 0 1 1 0 1 1\n",
      " 0 1 1 1 1 1 1 1 1 0 0 0 0 0 0 1 1 1 1 0 0 1 0 1 1 0 1 0 1 0 0 1 0 0 1 1 0\n",
      " 0 0 1 0 1 1 1 0 0 0 1 0 0 1 0 1 0 0 0 1 0 0 1 0 1 0 0 1 0 1 0 0 1 1 0 0 1\n",
      " 1 1 0 0 0 0 0 1 0 1 0 1 0 1 1 0 0 0 1 0 1 0 0 0 0 0 1 0 1 0 0 1 0 1 0 1 0\n",
      " 0 0 1 1 1 1 1 1 0 0 0 0 0 1 0 1 0 0 1 0 0 1 0 1 1 1 0 0 0 1 1 0 1 0 1 1 0\n",
      " 1 1 0 0 1 0 1 0 1 1 1 1 1 0 0 0 0 0 1 1 1 0 1 0 1 1 0 1 0 1 0 1 1 0 0 1 1\n",
      " 1 1 0 0 0 0 1 1 1 0 1 0 0 0 0 1 0 1 0 0 0 0 1 0 0 0 0 0 0 0 0 0 1 0 0 0 1\n",
      " 1 0 0 0 0 0 1 0 1 1 0 0 1 1 1 0 1 0 0 1 1 1 0 1 1 0 1 1 1 1 0 1 0 0 1 1 0\n",
      " 0 0 0 0 0 1 0 0 1 1 0 1 0 0 0 0 0 0 1 1 1 1 1 1 0 0 1 1 0 1 1 0 0 0 1 0 1\n",
      " 1 1 1 0 1 0 0 0 0 0 1 0 0 1 0 0 1 0 1 1 0 1 0 1 0 1 0 0 1 1 0 1 0 1 0 0 1\n",
      " 0 0 0 0 1 0 1 1 1 1 0 1 0 0 0 1 0 1 0 1 0 0 1 0 1 0 0 0 1 0 0 0 0 1 1 1 0\n",
      " 0 0 1 1 1]\n",
      "---\n",
      "kin8nm\n",
      "0.7277392667473312\n",
      "[0 0 1 ... 0 0 1]\n",
      "---\n",
      "phoneme\n",
      "0.6618985290451259\n",
      "[0 0 0 ... 0 0 0]\n",
      "---\n",
      "elevators\n",
      "0.48175340025934255\n",
      "[0 1 0 ... 1 0 0]\n",
      "---\n",
      "jm1\n",
      "0.4261967000577216\n",
      "[1 0 1 ... 0 1 1]\n",
      "---\n",
      "kdd_JapaneseVowels\n",
      "0.6569303541676976\n",
      "[0 0 0 ... 0 0 0]\n",
      "---\n",
      "mfeat-karhunen\n",
      "0.9259259259259259\n",
      "[0 0 0 0 0 0 0 0 0 0 0 0 0 0 0 0 0 0 0 0 0 1 0 0 0 0 0 0 0 0 0 0 0 0 0 0 0\n",
      " 0 0 0 0 1 0 0 0 0 1 0 0 0 0 0 1 0 0 1 0 0 0 0 0 0 0 0 0 0 0 0 1 0 0 0 0 0\n",
      " 0 0 0 0 0 0 0 0 1 0 0 0 0 0 0 0 1 0 0 0 0 0 0 0 1 0 0 0 0 0 0 0 0 0 0 0 0\n",
      " 0 0 0 0 0 0 0 0 0 0 0 0 0 0 0 0 0 0 0 0 0 1 0 1 0 0 0 0 0 0 0 0 0 0 0 0 0\n",
      " 0 0 0 1 0 0 0 1 0 0 0 0 0 1 0 0 0 0 0 0 0 0 0 0 0 0 0 0 0 0 0 0 0 0 0 0 0\n",
      " 0 0 0 0 0 0 0 0 0 1 0 0 0 0 1 0 0 0 0 0 0 0 0 1 0 0 0 0 0 0 0 1 0 0 0 0 0\n",
      " 0 0 0 0 0 0 0 0 0 0 1 0 0 0 0 0 0 0 0 0 0 0 0 0 0 0 0 0 0 0 0 0 0 0 1 0 0\n",
      " 0 0 0 0 0 0 0 0 0 0 0 1 0 0 0 0 0 0 0 0 1 0 0 0 0 0 0 0 0 0 0 0 0 0 0 0 1\n",
      " 0 0 0 0 0 0 0 0 1 0 0 0 1 0 1 0 0 0 1 0 0 0 0 0 0 0 0 0 0 0 0 1 0 0 0 0 0\n",
      " 0 0 0 0 0 1 0 0 0 0 0 0 0 1 0 1 1 1 0 0 0 0 0 0 0 1 0 0 0 0 1 0 0 0 1 0 0\n",
      " 0 1 0 0 0 0 0 0 0 0 0 0 0 0 1 0 0 0 0 0 0 0 0 0 0 0 0 0 0 0 0 1 0 0 0 0 0\n",
      " 0 1 0 0 0 0 0 0 0 0 0 0 0 0 0 1 0 0 0 1 0 0 0 0 0 0 0 1 0 0 0 0 0 0 0 0 1\n",
      " 0 0 0 0 0 0 0 1 0 0 0 0 0 0 0 0 0 0 0 1 0 0 0 0 0 1 0 0 0 0 0 0 0 0 0 0 0\n",
      " 0 0 0 0 0 0 0 0 0 0 0 0 1 0 1 1 0 0 0 1 0 0 0 0 0 0 0 0 0 0 0 0 0 0 0 0 0\n",
      " 0 0 0 0 0 0 0 1 0 0 0 0 0 0 0 0 0 0 0 0 0 0 0 1 1 0 0 1 1 0 0 0 0 0 0 0 0\n",
      " 0 0 0 0 0 0 0 0 0 0 0 0 0 0 0 1 0 0 0 0 0 0 0 0 0 0 1 0 1 0 0 0 0 0 0 0 0\n",
      " 1 0 0 0 0 0 0 0]\n",
      "---\n",
      "mfeat-zernike\n",
      "0.9694444444444444\n",
      "[0 0 0 0 0 0 0 0 0 0 0 0 0 0 0 0 0 0 0 1 0 1 0 0 0 0 0 0 1 1 0 0 0 0 0 0 0\n",
      " 0 0 0 0 1 0 0 0 0 1 0 0 0 0 0 1 0 0 1 0 0 0 0 0 0 0 0 0 0 0 0 1 0 0 0 0 0\n",
      " 0 0 0 0 0 0 0 0 1 0 0 0 0 0 0 0 1 0 0 0 0 0 0 0 1 0 0 1 0 0 0 0 0 0 0 0 0\n",
      " 0 0 0 0 0 0 0 0 0 0 0 0 0 0 0 0 0 1 0 0 0 1 0 1 0 0 0 0 0 0 0 0 0 0 0 0 0\n",
      " 1 0 0 1 0 0 0 1 1 0 0 0 0 1 0 0 0 0 0 0 0 0 0 0 0 0 0 0 0 0 0 0 0 0 0 0 0\n",
      " 1 0 0 0 0 0 0 0 0 1 0 0 0 0 1 0 0 0 0 0 0 0 0 0 0 0 0 0 0 0 0 1 0 0 0 0 0\n",
      " 0 0 0 0 0 0 0 0 0 0 1 0 0 0 0 0 0 0 0 0 0 0 0 0 0 0 0 0 0 0 0 0 0 0 0 0 0\n",
      " 0 0 0 0 0 0 0 0 0 0 0 1 0 0 0 0 0 0 0 0 1 0 0 0 0 0 0 0 0 0 1 0 1 0 0 0 1\n",
      " 0 0 0 0 0 1 0 0 1 0 0 0 1 0 1 0 0 0 0 0 0 0 0 0 0 0 0 0 0 0 0 0 0 0 0 0 0\n",
      " 0 0 0 0 1 1 0 0 0 0 0 0 0 1 0 1 1 1 0 1 0 0 0 0 0 1 0 0 0 0 1 0 1 0 1 0 0\n",
      " 0 1 0 0 0 1 0 0 0 0 0 0 0 0 1 0 0 0 0 0 0 0 0 0 0 0 0 0 0 0 0 1 0 0 0 0 0\n",
      " 0 1 0 0 1 0 0 0 0 0 0 0 0 0 0 1 0 0 0 1 0 0 0 0 0 0 0 1 0 0 0 0 0 0 0 0 1\n",
      " 0 0 0 0 0 0 0 1 0 0 0 0 0 0 0 0 0 1 0 1 0 0 0 0 0 1 0 0 0 0 0 0 0 0 0 0 0\n",
      " 0 0 0 0 0 0 0 0 0 0 0 0 0 0 1 1 0 0 0 1 0 0 0 0 0 0 0 0 0 0 0 0 0 0 0 0 0\n",
      " 0 0 0 0 0 0 0 1 0 0 0 0 0 0 0 0 0 0 0 0 0 0 0 1 1 0 0 0 1 0 0 0 0 0 0 0 0\n",
      " 0 0 0 0 0 0 1 0 0 0 0 0 0 0 0 1 0 0 0 0 0 0 0 0 0 0 1 0 1 0 0 1 0 0 0 0 0\n",
      " 1 0 0 0 0 0 0 0]\n",
      "---\n",
      "pc1\n",
      "0.6094670406732118\n",
      "[0 0 0 0 0 0 0 0 0 0 0 0 0 0 1 0 0 0 0 0 1 0 0 0 0 0 0 0 0 0 0 0 0 0 0 1 0\n",
      " 0 0 0 0 0 0 0 0 0 0 0 0 0 0 0 0 0 0 1 0 0 0 0 0 0 0 0 0 0 0 0 0 0 0 0 0 0\n",
      " 0 0 0 0 0 0 0 0 0 0 0 0 0 0 0 0 0 0 0 0 0 0 0 0 0 0 0 0 0 0 0 0 0 1 0 0 0\n",
      " 0 0 0 0 0 0 0 0 0 1 1 0 0 0 0 0 0 0 0 0 0 0 0 0 0 1 0 0 0 0 0 1 0 0 0 0 0\n",
      " 0 0 0 0 0 0 0 0 0 0 0 0 0 0 1 0 0 0 0 0 0 0 0 0 0 0 0 0 0 0 0 0 0 0 0 0 0\n",
      " 0 0 0 0 0 0 0 0 0 0 0 0 0 0 0 0 0 0 0 0 0 0 0 0 0 1 0 0 0 0 0 0 0 0 0 0 1\n",
      " 0 0 0 0 0 0 0 0 0 0 0 0 0 0 1 1 0 0 0 0 0 0 0 0 1 0 0 1 0 0 0 0 0 0 0 1 0\n",
      " 0 0 0 0 0 0 0 0 0 0 0 0 0 0 0 0 0 0 0 0 0 0 0 0 0 0 0 0 0 0 0 0 0 0 0 0 1\n",
      " 0 0 0 0 0 0 0 0 0 0 0 0 1 0 0 0 0 0 0 0 0 0 0 0 0 0 0 0 0 0 0 0 0 0 0 0 0]\n",
      "---\n"
     ]
    }
   ],
   "source": [
    "from sklearn.model_selection import train_test_split\n",
    "from src.model.LogisticRegression import LogisticRegression\n",
    "from src.optim.IWLS import IWLS\n",
    "from src.optim.SGD import SGD\n",
    "from src.optim.ADAM import ADAM\n",
    "from src.optim.conditions import MaxIterationCondition, NoLogLikImprovementCondition\n",
    "from src.data_loader.DataLoader import DataLoader\n",
    "from sklearn.metrics import balanced_accuracy_score\n",
    "import warnings\n",
    "warnings.filterwarnings('ignore')\n",
    "\n",
    "# Example of usage\n",
    "dl = DataLoader()\n",
    "sd = dl.get_supported_datasets()\n",
    "for d in sd:\n",
    "    print(d)\n",
    "    x, y = dl[d]\n",
    "    train_x, test_x, train_y, test_y = train_test_split(x, y, test_size=0.3, stratify=y, random_state=42)\n",
    "\n",
    "    model = LogisticRegression()\n",
    "    optim = ADAM(model, NoLogLikImprovementCondition(500))\n",
    "\n",
    "    model = optim.optimize(train_x, train_y)\n",
    "    print(balanced_accuracy_score(test_y, model.predict(test_x)))\n",
    "\n",
    "    print(model.predict(test_x))\n",
    "\n",
    "    print('---')"
   ]
  },
  {
   "cell_type": "code",
   "execution_count": 11,
   "id": "47a8313c",
   "metadata": {},
   "outputs": [
    {
     "data": {
      "text/plain": [
       "array([0., 1., 1., ..., 0., 0., 0.])"
      ]
     },
     "execution_count": 11,
     "metadata": {},
     "output_type": "execute_result"
    }
   ],
   "source": [
    "dl['pc1'][1] "
   ]
  },
  {
   "cell_type": "code",
   "execution_count": null,
   "id": "7d082e27",
   "metadata": {},
   "outputs": [],
   "source": []
  }
 ],
 "metadata": {
  "kernelspec": {
   "display_name": "Python 3",
   "language": "python",
   "name": "python3"
  },
  "language_info": {
   "codemirror_mode": {
    "name": "ipython",
    "version": 3
   },
   "file_extension": ".py",
   "mimetype": "text/x-python",
   "name": "python",
   "nbconvert_exporter": "python",
   "pygments_lexer": "ipython3",
   "version": "3.10.6"
  }
 },
 "nbformat": 4,
 "nbformat_minor": 5
}

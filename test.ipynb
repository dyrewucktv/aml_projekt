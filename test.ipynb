{
 "cells": [
  {
   "cell_type": "code",
   "execution_count": 1,
   "id": "82f654d0",
   "metadata": {
    "ExecuteTime": {
     "end_time": "2024-03-16T23:13:39.509669159Z",
     "start_time": "2024-03-16T23:06:56.601100004Z"
    }
   },
   "outputs": [
    {
     "name": "stdout",
     "output_type": "stream",
     "text": [
      "banknote\n",
      "(1372, 2)\n",
      "ADAM\n",
      "IWLS\n",
      "SGD\n",
      "ADAM\n",
      "IWLS\n",
      "SGD\n",
      "ADAM\n",
      "IWLS\n",
      "SGD\n",
      "kin8nm\n",
      "(8192, 8)\n",
      "ADAM\n",
      "IWLS\n",
      "SGD\n",
      "ADAM\n",
      "IWLS\n",
      "SGD\n",
      "ADAM\n",
      "IWLS\n",
      "SGD\n",
      "phoneme\n",
      "(5404, 5)\n",
      "ADAM\n",
      "IWLS\n"
     ]
    },
    {
     "ename": "KeyboardInterrupt",
     "evalue": "",
     "output_type": "error",
     "traceback": [
      "\u001B[0;31m---------------------------------------------------------------------------\u001B[0m",
      "\u001B[0;31mKeyboardInterrupt\u001B[0m                         Traceback (most recent call last)",
      "Cell \u001B[0;32mIn[1], line 37\u001B[0m\n\u001B[1;32m     35\u001B[0m model \u001B[38;5;241m=\u001B[39m LogisticRegression()\n\u001B[1;32m     36\u001B[0m optim \u001B[38;5;241m=\u001B[39m IWLS(model, NoLogLikOrMaxIterCondition(\u001B[38;5;241m50\u001B[39m, \u001B[38;5;241m1e-3\u001B[39m))\n\u001B[0;32m---> 37\u001B[0m model \u001B[38;5;241m=\u001B[39m \u001B[43moptim\u001B[49m\u001B[38;5;241;43m.\u001B[39;49m\u001B[43moptimize\u001B[49m\u001B[43m(\u001B[49m\u001B[43mtrain_x\u001B[49m\u001B[43m,\u001B[49m\u001B[43m \u001B[49m\u001B[43mtrain_y\u001B[49m\u001B[43m)\u001B[49m\n\u001B[1;32m     38\u001B[0m end \u001B[38;5;241m=\u001B[39m time\u001B[38;5;241m.\u001B[39mtime()\n\u001B[1;32m     39\u001B[0m rows\u001B[38;5;241m.\u001B[39mappend({\u001B[38;5;124m\"\u001B[39m\u001B[38;5;124moptim\u001B[39m\u001B[38;5;124m\"\u001B[39m: \u001B[38;5;124m\"\u001B[39m\u001B[38;5;124mIWLS\u001B[39m\u001B[38;5;124m\"\u001B[39m, \u001B[38;5;124m\"\u001B[39m\u001B[38;5;124mtime\u001B[39m\u001B[38;5;124m\"\u001B[39m: start \u001B[38;5;241m-\u001B[39m end, \u001B[38;5;124m\"\u001B[39m\u001B[38;5;124maccuracy\u001B[39m\u001B[38;5;124m\"\u001B[39m: balanced_accuracy_score(test_y, model\u001B[38;5;241m.\u001B[39mpredict(test_x)), \u001B[38;5;124m\"\u001B[39m\u001B[38;5;124mt\u001B[39m\u001B[38;5;124m\"\u001B[39m: t, \u001B[38;5;124m\"\u001B[39m\u001B[38;5;124miters\u001B[39m\u001B[38;5;124m\"\u001B[39m: optim\u001B[38;5;241m.\u001B[39mstop_condition\u001B[38;5;241m.\u001B[39mepoch})\n",
      "File \u001B[0;32m~/aml_projekt/src/optim/IWLS.py:15\u001B[0m, in \u001B[0;36mIWLS.optimize\u001B[0;34m(self, x, y)\u001B[0m\n\u001B[1;32m     13\u001B[0m p \u001B[38;5;241m=\u001B[39m \u001B[38;5;28mself\u001B[39m\u001B[38;5;241m.\u001B[39mmodel\u001B[38;5;241m.\u001B[39mpredict_probs(x)\n\u001B[1;32m     14\u001B[0m w \u001B[38;5;241m=\u001B[39m np\u001B[38;5;241m.\u001B[39mdiag(np\u001B[38;5;241m.\u001B[39mmaximum(p \u001B[38;5;241m*\u001B[39m (\u001B[38;5;241m1\u001B[39m \u001B[38;5;241m-\u001B[39m p), \u001B[38;5;28mself\u001B[39m\u001B[38;5;241m.\u001B[39mdelta))\n\u001B[0;32m---> 15\u001B[0m z \u001B[38;5;241m=\u001B[39m x \u001B[38;5;241m@\u001B[39m \u001B[38;5;28mself\u001B[39m\u001B[38;5;241m.\u001B[39mmodel\u001B[38;5;241m.\u001B[39mweights \u001B[38;5;241m+\u001B[39m \u001B[43mnp\u001B[49m\u001B[38;5;241;43m.\u001B[39;49m\u001B[43mlinalg\u001B[49m\u001B[38;5;241;43m.\u001B[39;49m\u001B[43minv\u001B[49m\u001B[43m(\u001B[49m\u001B[43mw\u001B[49m\u001B[43m)\u001B[49m \u001B[38;5;241m@\u001B[39m (y \u001B[38;5;241m-\u001B[39m p)\n\u001B[1;32m     16\u001B[0m b_new \u001B[38;5;241m=\u001B[39m np\u001B[38;5;241m.\u001B[39mlinalg\u001B[38;5;241m.\u001B[39minv(\n\u001B[1;32m     17\u001B[0m     (\u001B[38;5;241m1\u001B[39m \u001B[38;5;241m-\u001B[39m \u001B[38;5;28mself\u001B[39m\u001B[38;5;241m.\u001B[39mlambda_) \u001B[38;5;241m*\u001B[39m (x\u001B[38;5;241m.\u001B[39mT \u001B[38;5;241m@\u001B[39m w \u001B[38;5;241m@\u001B[39m x)\n\u001B[1;32m     18\u001B[0m     \u001B[38;5;241m+\u001B[39m \u001B[38;5;28mself\u001B[39m\u001B[38;5;241m.\u001B[39mlambda_ \u001B[38;5;241m*\u001B[39m np\u001B[38;5;241m.\u001B[39midentity(\u001B[38;5;28mself\u001B[39m\u001B[38;5;241m.\u001B[39mmodel\u001B[38;5;241m.\u001B[39mweights\u001B[38;5;241m.\u001B[39mshape[\u001B[38;5;241m0\u001B[39m])) \u001B[38;5;241m@\u001B[39m x\u001B[38;5;241m.\u001B[39mT \u001B[38;5;241m@\u001B[39m w \u001B[38;5;241m@\u001B[39m z\n\u001B[1;32m     19\u001B[0m \u001B[38;5;28mself\u001B[39m\u001B[38;5;241m.\u001B[39mmodel\u001B[38;5;241m.\u001B[39mweights \u001B[38;5;241m=\u001B[39m b_new\n",
      "File \u001B[0;32m~/aml_projekt/.venv/lib64/python3.12/site-packages/numpy/linalg/linalg.py:561\u001B[0m, in \u001B[0;36minv\u001B[0;34m(a)\u001B[0m\n\u001B[1;32m    559\u001B[0m signature \u001B[38;5;241m=\u001B[39m \u001B[38;5;124m'\u001B[39m\u001B[38;5;124mD->D\u001B[39m\u001B[38;5;124m'\u001B[39m \u001B[38;5;28;01mif\u001B[39;00m isComplexType(t) \u001B[38;5;28;01melse\u001B[39;00m \u001B[38;5;124m'\u001B[39m\u001B[38;5;124md->d\u001B[39m\u001B[38;5;124m'\u001B[39m\n\u001B[1;32m    560\u001B[0m extobj \u001B[38;5;241m=\u001B[39m get_linalg_error_extobj(_raise_linalgerror_singular)\n\u001B[0;32m--> 561\u001B[0m ainv \u001B[38;5;241m=\u001B[39m \u001B[43m_umath_linalg\u001B[49m\u001B[38;5;241;43m.\u001B[39;49m\u001B[43minv\u001B[49m\u001B[43m(\u001B[49m\u001B[43ma\u001B[49m\u001B[43m,\u001B[49m\u001B[43m \u001B[49m\u001B[43msignature\u001B[49m\u001B[38;5;241;43m=\u001B[39;49m\u001B[43msignature\u001B[49m\u001B[43m,\u001B[49m\u001B[43m \u001B[49m\u001B[43mextobj\u001B[49m\u001B[38;5;241;43m=\u001B[39;49m\u001B[43mextobj\u001B[49m\u001B[43m)\u001B[49m\n\u001B[1;32m    562\u001B[0m \u001B[38;5;28;01mreturn\u001B[39;00m wrap(ainv\u001B[38;5;241m.\u001B[39mastype(result_t, copy\u001B[38;5;241m=\u001B[39m\u001B[38;5;28;01mFalse\u001B[39;00m))\n",
      "\u001B[0;31mKeyboardInterrupt\u001B[0m: "
     ]
    }
   ],
   "source": [
    "import numpy as np\n",
    "import time\n",
    "import warnings\n",
    "\n",
    "from sklearn.metrics import balanced_accuracy_score\n",
    "from sklearn.model_selection import train_test_split\n",
    "\n",
    "from src.data_loader.DataLoader import DataLoader\n",
    "from src.model.LogisticRegression import LogisticRegression\n",
    "from src.optim.ADAM import ADAM\n",
    "from src.optim.IWLS import IWLS\n",
    "from src.optim.SGD import SGD\n",
    "from src.optim.conditions import NoLogLikOrMaxIterCondition\n",
    "\n",
    "warnings.filterwarnings('ignore')\n",
    "\n",
    "# Example of usage\n",
    "dl = DataLoader(product=True)\n",
    "sd = dl.get_supported_datasets()\n",
    "\n",
    "rows = []\n",
    "random_states = [420, 69, 42]\n",
    "for d in sd:\n",
    "    print(d)\n",
    "    x, y = dl[d]\n",
    "\n",
    "    for random_state in random_states:\n",
    "        np.random.seed(random_state)\n",
    "        train_x, test_x, train_y, test_y = train_test_split(x, y, test_size=0.3, stratify=y, random_state=random_state)\n",
    "        print(\"ADAM\")\n",
    "        start = time.time()\n",
    "        model = LogisticRegression()\n",
    "        optim = ADAM(model, NoLogLikOrMaxIterCondition(50, 1e-3))\n",
    "        model = optim.optimize(train_x, train_y)\n",
    "        end = time.time()\n",
    "        rows.append(\n",
    "            {\"optim\": \"ADAM\", \"time\": start - end, \"accuracy\": balanced_accuracy_score(test_y, model.predict(test_x)),\n",
    "             \"t\": t, \"iters\": optim.stop_condition.epoch})\n",
    "\n",
    "        print(\"IWLS\")\n",
    "        start = time.time()\n",
    "        model = LogisticRegression()\n",
    "        optim = IWLS(model, NoLogLikOrMaxIterCondition(50, 1e-3))\n",
    "        model = optim.optimize(train_x, train_y)\n",
    "        end = time.time()\n",
    "        rows.append(\n",
    "            {\"optim\": \"IWLS\", \"time\": start - end, \"accuracy\": balanced_accuracy_score(test_y, model.predict(test_x)),\n",
    "             \"t\": t, \"iters\": optim.stop_condition.epoch})\n",
    "\n",
    "        print(\"SGD\")\n",
    "        start = time.time()\n",
    "        model = LogisticRegression()\n",
    "        optim = SGD(model, NoLogLikOrMaxIterCondition(50, 1e-3))\n",
    "        model = optim.optimize(train_x, train_y)\n",
    "        end = time.time()\n",
    "        rows.append(\n",
    "            {\"optim\": \"SGD\", \"time\": start - end, \"accuracy\": balanced_accuracy_score(test_y, model.predict(test_x)),\n",
    "             \"t\": t, \"iters\": optim.stop_condition.epoch})\n"
   ]
  },
  {
   "cell_type": "code",
   "execution_count": null,
   "id": "47a8313c",
   "metadata": {
    "ExecuteTime": {
     "start_time": "2024-03-16T23:13:39.507875465Z"
    }
   },
   "outputs": [],
   "source": [
    "import pandas as pd\n",
    "\n",
    "df = pd.DataFrame(rows)\n",
    "df"
   ]
  },
  {
   "cell_type": "code",
   "outputs": [],
   "source": [],
   "metadata": {
    "collapsed": false
   },
   "id": "15ebf30881123538"
  }
 ],
 "metadata": {
  "kernelspec": {
   "display_name": "Python 3",
   "language": "python",
   "name": "python3"
  },
  "language_info": {
   "codemirror_mode": {
    "name": "ipython",
    "version": 3
   },
   "file_extension": ".py",
   "mimetype": "text/x-python",
   "name": "python",
   "nbconvert_exporter": "python",
   "pygments_lexer": "ipython3",
   "version": "3.10.6"
  }
 },
 "nbformat": 4,
 "nbformat_minor": 5
}

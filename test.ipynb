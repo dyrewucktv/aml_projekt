{
 "cells": [
  {
   "cell_type": "code",
   "execution_count": 54,
   "id": "initial_id",
   "metadata": {
    "ExecuteTime": {
     "end_time": "2024-03-11T17:29:22.354129443Z",
     "start_time": "2024-03-11T17:29:22.189448623Z"
    },
    "collapsed": true
   },
   "outputs": [
    {
     "data": {
      "text/plain": [
       "array([(-0.015119,  0.360741,  0.469398,  1.309675,  0.988024, -0.025493,  0.664071,  0.062763, b'P'),\n",
       "       ( 0.360478, -0.301395,  0.629183, -1.440146, -0.741637, -1.19675 , -1.038444, -0.717461, b'P'),\n",
       "       ( 1.563238, -1.294753,  0.078987,  1.432937,  1.149136, -1.29214 ,  1.562988, -0.937731, b'P'),\n",
       "       ...,\n",
       "       ( 0.103862,  1.024329, -1.047221,  0.280905, -0.181155, -0.651934, -1.241842,  1.53022 , b'N'),\n",
       "       (-1.109311, -0.02769 , -1.448736, -0.648566, -0.462142,  0.814971,  1.100615,  1.337159, b'N'),\n",
       "       ( 1.155011, -0.429331, -1.56726 ,  0.883077, -1.203777, -0.126506,  0.331042, -1.327384, b'P')],\n",
       "      dtype=[('theta1', '<f8'), ('theta2', '<f8'), ('theta3', '<f8'), ('theta4', '<f8'), ('theta5', '<f8'), ('theta6', '<f8'), ('theta7', '<f8'), ('theta8', '<f8'), ('binaryClass', 'S1')])"
      ]
     },
     "execution_count": 54,
     "metadata": {},
     "output_type": "execute_result"
    }
   ],
   "source": [
    "from scipy.io import arff\n",
    "import numpy as np\n",
    "from sklearn.metrics import balanced_accuracy_score\n",
    "\n",
    "f = open('data/kin8nm.arff', 'r', encoding='utf-8')\n",
    "data, meta = arff.loadarff(f)\n",
    "data"
   ]
  },
  {
   "cell_type": "code",
   "execution_count": 59,
   "id": "9d7f8ae72455b08c",
   "metadata": {
    "ExecuteTime": {
     "end_time": "2024-03-11T17:29:22.422470646Z",
     "start_time": "2024-03-11T17:29:22.367258395Z"
    },
    "collapsed": false
   },
   "outputs": [],
   "source": [
    "# Na dole jest przykład jak wczytywać dane - jest klasa DataLoader jak coś\n",
    "data = np.array(data.tolist(), dtype=object)\n",
    "# y = np.array(data.tolist()[:, -1], dtype=object)\n",
    "x = data[:, :-1].astype(float)\n",
    "# y= (data[:, -1] - 1)\n",
    "# x"
   ]
  },
  {
   "cell_type": "code",
   "execution_count": 26,
   "id": "c03f35479a58880",
   "metadata": {
    "ExecuteTime": {
     "end_time": "2024-03-11T17:29:51.826677290Z",
     "start_time": "2024-03-11T17:29:42.369354640Z"
    },
    "collapsed": false
   },
   "outputs": [
    {
     "data": {
      "text/plain": [
       "0.558765778401122"
      ]
     },
     "execution_count": 26,
     "metadata": {},
     "output_type": "execute_result"
    }
   ],
   "source": [
    "from sklearn.model_selection import train_test_split\n",
    "\n",
    "from src.model.LogisticRegression import LogisticRegression\n",
    "from src.optim.IWLS import IWLS\n",
    "from src.optim.SGD import SGD\n",
    "from src.optim.ADAM import ADAM\n",
    "from src.optim.conditions import MaxIterationCondition, NoLogLikImprovementCondition\n",
    "\n",
    "train_x, test_x, train_y, test_y = train_test_split(x, y, test_size=0.3, stratify=y, random_state=42)\n",
    "\n",
    "model = LogisticRegression()\n",
    "optim = IWLS(model, NoLogLikImprovementCondition(1))\n",
    "\n",
    "model = optim.optimize(train_x, train_y)\n",
    "balanced_accuracy_score(test_y, model.predict(test_x))"
   ]
  },
  {
   "cell_type": "code",
   "execution_count": 5,
   "id": "205c3a0a25d694f",
   "metadata": {
    "ExecuteTime": {
     "end_time": "2024-03-11T17:29:55.231010950Z",
     "start_time": "2024-03-11T17:29:55.225693586Z"
    },
    "collapsed": false
   },
   "outputs": [
    {
     "data": {
      "text/plain": [
       "38"
      ]
     },
     "execution_count": 5,
     "metadata": {},
     "output_type": "execute_result"
    }
   ],
   "source": [
    "optim.stop_condition.epoch"
   ]
  },
  {
   "cell_type": "code",
   "execution_count": 6,
   "id": "d658d6a00d68671c",
   "metadata": {
    "ExecuteTime": {
     "start_time": "2024-03-11T17:29:32.629733846Z"
    },
    "collapsed": false
   },
   "outputs": [
    {
     "data": {
      "text/plain": [
       "array([-0.00994713, -0.01611059,  0.00945837,  0.01735449,  0.00939425])"
      ]
     },
     "execution_count": 6,
     "metadata": {},
     "output_type": "execute_result"
    }
   ],
   "source": [
    "model.weights"
   ]
  },
  {
   "cell_type": "code",
   "execution_count": null,
   "id": "a6d416c521292956",
   "metadata": {
    "ExecuteTime": {
     "end_time": "2024-03-11T17:29:32.631486818Z",
     "start_time": "2024-03-11T17:29:32.631178232Z"
    },
    "collapsed": false
   },
   "outputs": [],
   "source": [
    "print(model.weights)"
   ]
  },
  {
   "cell_type": "code",
   "execution_count": 7,
   "id": "892948d01f9b1f1b",
   "metadata": {
    "ExecuteTime": {
     "start_time": "2024-03-11T17:29:32.632449645Z"
    },
    "collapsed": false
   },
   "outputs": [
    {
     "data": {
      "text/plain": [
       "array([0, 1, 0, ..., 0, 1, 0])"
      ]
     },
     "execution_count": 7,
     "metadata": {},
     "output_type": "execute_result"
    }
   ],
   "source": [
    "model.predict(test_x)"
   ]
  },
  {
   "cell_type": "code",
   "execution_count": null,
   "id": "b4844f31aee9a0c6",
   "metadata": {
    "ExecuteTime": {
     "start_time": "2024-03-11T17:29:32.633444512Z"
    },
    "collapsed": false
   },
   "outputs": [],
   "source": [
    "raise ValueError()"
   ]
  },
  {
   "cell_type": "code",
   "execution_count": null,
   "id": "76bfa8059ec10873",
   "metadata": {
    "ExecuteTime": {
     "start_time": "2024-03-11T17:29:32.648396656Z"
    },
    "collapsed": false
   },
   "outputs": [],
   "source": [
    "from sklearn.model_selection import train_test_split\n",
    "\n",
    "from src.model.LogisticRegression import LogisticRegression\n",
    "from src.optim.IWLS import IWLS\n",
    "from src.optim.conditions import MaxIterationCondition\n",
    "\n",
    "train_x, test_x, train_y, test_y = train_test_split(x, y, test_size=0.3, stratify=y, random_state=42)\n",
    "\n",
    "accs = []\n",
    "for i in range(1, 20):\n",
    "    model = LogisticRegression()\n",
    "    optim = IWLS(model, MaxIterationCondition(i))\n",
    "\n",
    "    model = optim.optimize(train_x, train_y)\n",
    "\n",
    "    balanced_acc = balanced_accuracy_score(test_y, model.predict(test_x))\n",
    "    accs.append(balanced_acc)\n"
   ]
  },
  {
   "cell_type": "code",
   "execution_count": null,
   "id": "63b5c370b45551da",
   "metadata": {
    "ExecuteTime": {
     "start_time": "2024-03-11T17:29:32.648526899Z"
    },
    "collapsed": false
   },
   "outputs": [],
   "source": [
    "import seaborn as sns\n",
    "sns.lineplot(x=list(range(1,20)), y=accs)"
   ]
  },
  {
   "cell_type": "code",
   "execution_count": 4,
   "id": "82f654d0",
   "metadata": {},
   "outputs": [
    {
     "name": "stdout",
     "output_type": "stream",
     "text": [
      "banknote\n",
      "0.8530794378027537\n",
      "[0 0 0 1 0 0 1 1 0 1 1 0 0 0 0 0 0 1 0 0 0 0 1 0 1 0 0 0 1 1 1 0 1 1 0 1 1\n",
      " 0 0 1 1 0 1 1 1 0 0 0 0 0 0 1 1 1 1 1 0 0 1 0 1 1 0 1 0 1 0 0 1 0 1 1 0 0\n",
      " 0 0 1 0 1 1 1 0 0 1 1 0 0 1 0 0 0 0 0 1 0 0 1 0 0 0 0 1 0 1 1 0 1 1 0 0 0\n",
      " 1 1 0 0 0 0 0 1 0 0 0 0 0 1 1 1 0 0 1 0 1 0 0 1 0 0 1 0 1 0 0 1 0 1 0 1 0\n",
      " 0 0 1 1 1 0 0 1 0 0 0 0 0 1 1 1 0 0 1 0 1 1 0 0 1 0 0 0 0 1 1 0 1 0 1 1 0\n",
      " 1 1 0 1 1 0 1 0 1 1 1 1 1 0 0 0 0 0 1 1 0 0 1 0 1 1 1 1 0 1 0 1 1 0 0 0 1\n",
      " 1 1 1 0 0 0 1 1 1 0 0 1 1 0 0 1 0 0 1 0 0 0 1 0 0 1 0 0 0 0 1 0 1 0 0 0 1\n",
      " 1 0 0 0 0 0 1 0 1 1 0 0 1 1 1 0 1 0 0 1 1 0 1 0 1 0 1 1 1 1 0 1 0 0 1 1 0\n",
      " 1 0 0 1 0 1 0 0 1 0 0 1 0 0 0 1 0 0 1 1 1 1 1 1 0 0 1 1 0 1 1 0 0 0 1 0 1\n",
      " 1 1 1 0 1 0 0 0 0 0 1 0 1 1 0 0 1 0 1 1 0 1 0 1 0 1 0 0 1 1 0 1 0 0 0 0 1\n",
      " 0 0 0 0 1 0 1 0 1 1 0 1 0 0 0 1 0 0 0 1 0 1 1 0 1 0 1 0 1 0 0 0 0 1 1 1 0\n",
      " 1 0 0 1 1]\n",
      "---\n",
      "kin8nm\n",
      "0.5612332006805492\n",
      "[0 0 0 ... 0 0 0]\n",
      "---\n",
      "phoneme\n",
      "0.6292383445524806\n",
      "[0 0 0 ... 0 1 0]\n",
      "---\n",
      "elevators\n"
     ]
    },
    {
     "ename": "KeyboardInterrupt",
     "evalue": "",
     "output_type": "error",
     "traceback": [
      "\u001b[1;31m---------------------------------------------------------------------------\u001b[0m",
      "\u001b[1;31mKeyboardInterrupt\u001b[0m                         Traceback (most recent call last)",
      "Cell \u001b[1;32mIn[4], line 17\u001b[0m\n\u001b[0;32m     15\u001b[0m \u001b[38;5;28;01mfor\u001b[39;00m d \u001b[38;5;129;01min\u001b[39;00m sd:\n\u001b[0;32m     16\u001b[0m     \u001b[38;5;28mprint\u001b[39m(d)\n\u001b[1;32m---> 17\u001b[0m     x, y \u001b[38;5;241m=\u001b[39m \u001b[43mdl\u001b[49m\u001b[43m[\u001b[49m\u001b[43md\u001b[49m\u001b[43m]\u001b[49m\n\u001b[0;32m     18\u001b[0m     train_x, test_x, train_y, test_y \u001b[38;5;241m=\u001b[39m train_test_split(x, y, test_size\u001b[38;5;241m=\u001b[39m\u001b[38;5;241m0.3\u001b[39m, stratify\u001b[38;5;241m=\u001b[39my, random_state\u001b[38;5;241m=\u001b[39m\u001b[38;5;241m42\u001b[39m)\n\u001b[0;32m     20\u001b[0m     model \u001b[38;5;241m=\u001b[39m LogisticRegression()\n",
      "File \u001b[1;32mc:\\Users\\szymo\\AdvancedML\\Projects\\Project1\\aml_projekt\\src\\data_loader\\DataLoader.py:32\u001b[0m, in \u001b[0;36mDataLoader.__getitem__\u001b[1;34m(self, item)\u001b[0m\n\u001b[0;32m     30\u001b[0m         \u001b[38;5;28;01mfor\u001b[39;00m i \u001b[38;5;129;01min\u001b[39;00m \u001b[38;5;28mrange\u001b[39m(x\u001b[38;5;241m.\u001b[39mshape[\u001b[38;5;241m1\u001b[39m]):\n\u001b[0;32m     31\u001b[0m             \u001b[38;5;28;01mfor\u001b[39;00m j \u001b[38;5;129;01min\u001b[39;00m \u001b[38;5;28mrange\u001b[39m(i\u001b[38;5;241m+\u001b[39m\u001b[38;5;241m1\u001b[39m, x\u001b[38;5;241m.\u001b[39mshape[\u001b[38;5;241m1\u001b[39m]):\n\u001b[1;32m---> 32\u001b[0m                 x \u001b[38;5;241m=\u001b[39m \u001b[43mnp\u001b[49m\u001b[38;5;241;43m.\u001b[39;49m\u001b[43mconcatenate\u001b[49m\u001b[43m(\u001b[49m\u001b[43m(\u001b[49m\u001b[43mx\u001b[49m\u001b[43m,\u001b[49m\u001b[43m \u001b[49m\u001b[43m(\u001b[49m\u001b[43mx\u001b[49m\u001b[43m[\u001b[49m\u001b[43m:\u001b[49m\u001b[43m,\u001b[49m\u001b[43mi\u001b[49m\u001b[43m]\u001b[49m\u001b[43m \u001b[49m\u001b[38;5;241;43m*\u001b[39;49m\u001b[43m \u001b[49m\u001b[43mx\u001b[49m\u001b[43m[\u001b[49m\u001b[43m:\u001b[49m\u001b[43m,\u001b[49m\u001b[43mj\u001b[49m\u001b[43m]\u001b[49m\u001b[43m)\u001b[49m\u001b[38;5;241;43m.\u001b[39;49m\u001b[43mreshape\u001b[49m\u001b[43m(\u001b[49m\u001b[38;5;241;43m-\u001b[39;49m\u001b[38;5;241;43m1\u001b[39;49m\u001b[43m,\u001b[49m\u001b[43m \u001b[49m\u001b[38;5;241;43m1\u001b[39;49m\u001b[43m)\u001b[49m\u001b[43m)\u001b[49m\u001b[43m,\u001b[49m\u001b[43m \u001b[49m\u001b[43maxis\u001b[49m\u001b[38;5;241;43m=\u001b[39;49m\u001b[38;5;241;43m1\u001b[39;49m\u001b[43m)\u001b[49m\n\u001b[0;32m     33\u001b[0m     \u001b[38;5;28mself\u001b[39m\u001b[38;5;241m.\u001b[39mdata[item] \u001b[38;5;241m=\u001b[39m (x, y)\n\u001b[0;32m     35\u001b[0m \u001b[38;5;28;01mreturn\u001b[39;00m \u001b[38;5;28mself\u001b[39m\u001b[38;5;241m.\u001b[39mdata[item]\n",
      "File \u001b[1;32m<__array_function__ internals>:200\u001b[0m, in \u001b[0;36mconcatenate\u001b[1;34m(*args, **kwargs)\u001b[0m\n",
      "\u001b[1;31mKeyboardInterrupt\u001b[0m: "
     ]
    }
   ],
   "source": [
    "from sklearn.model_selection import train_test_split\n",
    "from src.model.LogisticRegression import LogisticRegression\n",
    "from src.optim.IWLS import IWLS\n",
    "from src.optim.SGD import SGD\n",
    "from src.optim.ADAM import ADAM\n",
    "from src.optim.conditions import MaxIterationCondition, NoLogLikImprovementCondition\n",
    "from src.data_loader.DataLoader import DataLoader\n",
    "from sklearn.metrics import balanced_accuracy_score\n",
    "import warnings\n",
    "warnings.filterwarnings('ignore')\n",
    "\n",
    "# Example of usage\n",
    "dl = DataLoader(product=True)\n",
    "sd = dl.get_supported_datasets()\n",
    "for d in sd:\n",
    "    print(d)\n",
    "    x, y = dl[d]\n",
    "    train_x, test_x, train_y, test_y = train_test_split(x, y, test_size=0.3, stratify=y, random_state=42)\n",
    "\n",
    "    model = LogisticRegression()\n",
    "    optim = ADAM(model, MaxIterationCondition(10))\n",
    "\n",
    "    model = optim.optimize(train_x, train_y)\n",
    "    print(balanced_accuracy_score(test_y, model.predict(test_x)))\n",
    "\n",
    "    print(model.predict(test_x))\n",
    "\n",
    "    print('---')"
   ]
  },
  {
   "cell_type": "code",
   "execution_count": 11,
   "id": "47a8313c",
   "metadata": {},
   "outputs": [
    {
     "data": {
      "text/plain": [
       "array([0., 1., 1., ..., 0., 0., 0.])"
      ]
     },
     "execution_count": 11,
     "metadata": {},
     "output_type": "execute_result"
    }
   ],
   "source": [
    "dl['pc1'][1] "
   ]
  },
  {
   "cell_type": "code",
   "execution_count": null,
   "id": "7d082e27",
   "metadata": {},
   "outputs": [],
   "source": []
  }
 ],
 "metadata": {
  "kernelspec": {
   "display_name": "Python 3",
   "language": "python",
   "name": "python3"
  },
  "language_info": {
   "codemirror_mode": {
    "name": "ipython",
    "version": 3
   },
   "file_extension": ".py",
   "mimetype": "text/x-python",
   "name": "python",
   "nbconvert_exporter": "python",
   "pygments_lexer": "ipython3",
   "version": "3.10.6"
  }
 },
 "nbformat": 4,
 "nbformat_minor": 5
}

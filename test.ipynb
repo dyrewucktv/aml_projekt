{
 "cells": [
  {
   "cell_type": "code",
   "execution_count": 1,
   "id": "initial_id",
   "metadata": {
    "collapsed": true,
    "ExecuteTime": {
     "end_time": "2024-03-10T18:55:42.218785133Z",
     "start_time": "2024-03-10T18:55:41.222924755Z"
    }
   },
   "outputs": [
    {
     "data": {
      "text/plain": "array([( 0.489927, -0.451528, -1.04799 , -0.598693, -0.020418, b'1'),\n       (-0.641265,  0.109245,  0.29213 , -0.916804,  0.240223, b'1'),\n       ( 0.870593, -0.459862,  0.578159,  0.806634,  0.835248, b'1'), ...,\n       ( 0.246882, -0.793228,  1.190101,  1.423194, -1.303036, b'2'),\n       (-0.778907, -0.383111,  1.727029, -1.432389, -1.208085, b'1'),\n       (-0.794604, -0.640053,  0.632221,  0.72028 , -1.231182, b'2')],\n      dtype=[('V1', '<f8'), ('V2', '<f8'), ('V3', '<f8'), ('V4', '<f8'), ('V5', '<f8'), ('Class', 'S1')])"
     },
     "execution_count": 1,
     "metadata": {},
     "output_type": "execute_result"
    }
   ],
   "source": [
    "from scipy.io import arff\n",
    "import numpy as np\n",
    "from sklearn.metrics import balanced_accuracy_score\n",
    "\n",
    "data, meta = arff.loadarff('data/phoneme.arff')\n",
    "data"
   ]
  },
  {
   "cell_type": "code",
   "outputs": [],
   "source": [],
   "metadata": {
    "collapsed": false,
    "ExecuteTime": {
     "end_time": "2024-03-10T18:55:42.224279438Z",
     "start_time": "2024-03-10T18:55:42.219904350Z"
    }
   },
   "id": "63b55b58fdddc9b5",
   "execution_count": 1
  },
  {
   "cell_type": "code",
   "outputs": [
    {
     "data": {
      "text/plain": "array([[ 0.489927, -0.451528, -1.04799 , -0.598693, -0.020418],\n       [-0.641265,  0.109245,  0.29213 , -0.916804,  0.240223],\n       [ 0.870593, -0.459862,  0.578159,  0.806634,  0.835248],\n       ...,\n       [ 0.246882, -0.793228,  1.190101,  1.423194, -1.303036],\n       [-0.778907, -0.383111,  1.727029, -1.432389, -1.208085],\n       [-0.794604, -0.640053,  0.632221,  0.72028 , -1.231182]])"
     },
     "execution_count": 2,
     "metadata": {},
     "output_type": "execute_result"
    }
   ],
   "source": [
    "data = np.array(data.tolist(), dtype=float)\n",
    "x = data[:, :-1]\n",
    "y= (data[:, -1] - 1)\n",
    "x"
   ],
   "metadata": {
    "collapsed": false,
    "ExecuteTime": {
     "end_time": "2024-03-10T18:55:42.245991194Z",
     "start_time": "2024-03-10T18:55:42.235677652Z"
    }
   },
   "id": "9d7f8ae72455b08c",
   "execution_count": 2
  },
  {
   "cell_type": "code",
   "outputs": [
    {
     "data": {
      "text/plain": "array([0., 0., 0., ..., 1., 0., 1.])"
     },
     "execution_count": 3,
     "metadata": {},
     "output_type": "execute_result"
    }
   ],
   "source": [
    "y"
   ],
   "metadata": {
    "collapsed": false,
    "ExecuteTime": {
     "end_time": "2024-03-10T18:55:42.268488304Z",
     "start_time": "2024-03-10T18:55:42.241461908Z"
    }
   },
   "id": "55c0e4c2861d5a52",
   "execution_count": 3
  },
  {
   "cell_type": "code",
   "outputs": [],
   "source": [
    "from sklearn.model_selection import train_test_split\n",
    "\n",
    "from src.model.LogisticRegression import LogisticRegression\n",
    "from src.optim.IWLS import IWLS\n",
    "from src.optim.conditions import MaxIterationCondition\n",
    "\n",
    "train_x, test_x, train_y, test_y = train_test_split(x, y, test_size=0.3, stratify=y, random_state=42)\n",
    "\n",
    "accs = []\n",
    "for i in range(1, 20):\n",
    "    model = LogisticRegression()\n",
    "    optim = IWLS(model, MaxIterationCondition(i))\n",
    "\n",
    "    model = optim.optimize(train_x, train_y)\n",
    "\n",
    "    balanced_acc = balanced_accuracy_score(test_y, model.predict(test_x))\n",
    "    accs.append(balanced_acc)\n"
   ],
   "metadata": {
    "collapsed": false,
    "ExecuteTime": {
     "end_time": "2024-03-10T19:08:19.929990430Z",
     "start_time": "2024-03-10T19:05:30.856795149Z"
    }
   },
   "id": "76bfa8059ec10873",
   "execution_count": 13
  },
  {
   "cell_type": "code",
   "outputs": [
    {
     "data": {
      "text/plain": "<Axes: >"
     },
     "execution_count": 12,
     "metadata": {},
     "output_type": "execute_result"
    },
    {
     "data": {
      "text/plain": "<Figure size 640x480 with 1 Axes>",
      "image/png": "[encoded data removed]"
     },
     "metadata": {},
     "output_type": "display_data"
    }
   ],
   "source": [
    "import seaborn as sns\n",
    "sns.lineplot(x=list(range(20)), y=accs)"
   ],
   "metadata": {
    "collapsed": false,
    "ExecuteTime": {
     "end_time": "2024-03-10T19:04:55.391116006Z",
     "start_time": "2024-03-10T19:04:55.273839882Z"
    }
   },
   "id": "63b5c370b45551da",
   "execution_count": 12
  }
 ],
 "metadata": {
  "kernelspec": {
   "display_name": "Python 3",
   "language": "python",
   "name": "python3"
  },
  "language_info": {
   "codemirror_mode": {
    "name": "ipython",
    "version": 2
   },
   "file_extension": ".py",
   "mimetype": "text/x-python",
   "name": "python",
   "nbconvert_exporter": "python",
   "pygments_lexer": "ipython2",
   "version": "2.7.6"
  }
 },
 "nbformat": 4,
 "nbformat_minor": 5
}

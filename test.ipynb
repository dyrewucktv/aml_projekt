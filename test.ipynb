{
 "cells": [
  {
   "cell_type": "code",
   "execution_count": null,
   "id": "82f654d0",
   "metadata": {
    "is_executing": true,
    "ExecuteTime": {
     "start_time": "2024-03-16T23:06:56.601100004Z"
    }
   },
   "outputs": [
    {
     "name": "stdout",
     "output_type": "stream",
     "text": [
      "banknote\n",
      "(1372, 2)\n",
      "ADAM\n",
      "IWLS\n",
      "SGD\n",
      "ADAM\n",
      "IWLS\n",
      "SGD\n",
      "ADAM\n",
      "IWLS\n",
      "SGD\n",
      "kin8nm\n",
      "(8192, 8)\n",
      "ADAM\n",
      "IWLS\n",
      "SGD\n",
      "ADAM\n",
      "IWLS\n",
      "SGD\n",
      "ADAM\n",
      "IWLS\n"
     ]
    }
   ],
   "source": [
    "import time\n",
    "import warnings\n",
    "\n",
    "from sklearn.metrics import balanced_accuracy_score\n",
    "from sklearn.model_selection import train_test_split\n",
    "\n",
    "from src.data_loader.DataLoader import DataLoader\n",
    "from src.model.LogisticRegression import LogisticRegression\n",
    "from src.optim.ADAM import ADAM\n",
    "from src.optim.IWLS import IWLS\n",
    "from src.optim.SGD import SGD\n",
    "from src.optim.conditions import NoLogLikOrMaxIterCondition\n",
    "\n",
    "warnings.filterwarnings('ignore')\n",
    "\n",
    "# Example of usage\n",
    "dl = DataLoader(product=True)\n",
    "sd = dl.get_supported_datasets()\n",
    "\n",
    "rows = []\n",
    "\n",
    "for d in sd:\n",
    "    print(d)\n",
    "    x, y = dl[d]\n",
    "\n",
    "    for t in range(3):\n",
    "        train_x, test_x, train_y, test_y = train_test_split(x, y, test_size=0.3, stratify=y, random_state=42)\n",
    "        print(\"ADAM\")\n",
    "        start = time.time()\n",
    "        model = LogisticRegression()\n",
    "        optim = ADAM(model, NoLogLikOrMaxIterCondition(50, 1e-3))\n",
    "        model = optim.optimize(train_x, train_y)\n",
    "        end = time.time()\n",
    "        rows.append(\n",
    "            {\"optim\": \"ADAM\", \"time\": start - end, \"accuracy\": balanced_accuracy_score(test_y, model.predict(test_x)),\n",
    "             \"t\": t, \"iters\": optim.stop_condition.epoch})\n",
    "\n",
    "        print(\"IWLS\")\n",
    "        start = time.time()\n",
    "        model = LogisticRegression()\n",
    "        optim = IWLS(model, NoLogLikOrMaxIterCondition(50, 1e-3))\n",
    "        model = optim.optimize(train_x, train_y)\n",
    "        end = time.time()\n",
    "        rows.append(\n",
    "            {\"optim\": \"IWLS\", \"time\": start - end, \"accuracy\": balanced_accuracy_score(test_y, model.predict(test_x)),\n",
    "             \"t\": t, \"iters\": optim.stop_condition.epoch})\n",
    "\n",
    "        print(\"SGD\")\n",
    "        start = time.time()\n",
    "        model = LogisticRegression()\n",
    "        optim = SGD(model, NoLogLikOrMaxIterCondition(50, 1e-3))\n",
    "        model = optim.optimize(train_x, train_y)\n",
    "        end = time.time()\n",
    "        rows.append(\n",
    "            {\"optim\": \"SGD\", \"time\": start - end, \"accuracy\": balanced_accuracy_score(test_y, model.predict(test_x)),\n",
    "             \"t\": t, \"iters\": optim.stop_condition.epoch})\n"
   ]
  },
  {
   "cell_type": "code",
   "execution_count": null,
   "id": "47a8313c",
   "metadata": {
    "is_executing": true
   },
   "outputs": [],
   "source": [
    "import pandas as pd\n",
    "\n",
    "df = pd.DataFrame(rows)\n",
    "df"
   ]
  },
  {
   "cell_type": "code",
   "outputs": [],
   "source": [],
   "metadata": {
    "collapsed": false
   },
   "id": "15ebf30881123538"
  }
 ],
 "metadata": {
  "kernelspec": {
   "display_name": "Python 3",
   "language": "python",
   "name": "python3"
  },
  "language_info": {
   "codemirror_mode": {
    "name": "ipython",
    "version": 3
   },
   "file_extension": ".py",
   "mimetype": "text/x-python",
   "name": "python",
   "nbconvert_exporter": "python",
   "pygments_lexer": "ipython3",
   "version": "3.10.6"
  }
 },
 "nbformat": 4,
 "nbformat_minor": 5
}
